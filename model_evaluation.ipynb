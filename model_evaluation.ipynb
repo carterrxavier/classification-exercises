{
 "cells": [
  {
   "cell_type": "code",
   "execution_count": 2,
   "metadata": {},
   "outputs": [],
   "source": [
    "#2 given the following confusion , evaluate(by hand), the models preformance \n",
    "\n",
    "#|               | pred dog   | pred cat   |\n",
    "#|:------------  |-----------:|-----------:|\n",
    "#| actual dog    |         46 |         7  |\n",
    "#| actual cat    |         13 |         34 |\n",
    "\n"
   ]
  },
  {
   "cell_type": "code",
   "execution_count": 4,
   "metadata": {},
   "outputs": [],
   "source": [
    "#Positive = Dog\n",
    "#TP = Predict dog, is dog\n",
    "#FP = Predict dog, is cat\n",
    "#FN = Predict cat, is dog\n",
    "#TN = predict cat, is cat"
   ]
  },
  {
   "cell_type": "code",
   "execution_count": 5,
   "metadata": {},
   "outputs": [],
   "source": [
    "#This model is a confusion matrix that has a focus on accuracy, as guessing one\n",
    "#animal and it being the other are both significantly important"
   ]
  },
  {
   "cell_type": "code",
   "execution_count": 6,
   "metadata": {},
   "outputs": [],
   "source": [
    "#3\n",
    "import numpy as np\n",
    "import pandas as pd"
   ]
  },
  {
   "cell_type": "code",
   "execution_count": 78,
   "metadata": {},
   "outputs": [
    {
     "data": {
      "text/html": [
       "<div>\n",
       "<style scoped>\n",
       "    .dataframe tbody tr th:only-of-type {\n",
       "        vertical-align: middle;\n",
       "    }\n",
       "\n",
       "    .dataframe tbody tr th {\n",
       "        vertical-align: top;\n",
       "    }\n",
       "\n",
       "    .dataframe thead th {\n",
       "        text-align: right;\n",
       "    }\n",
       "</style>\n",
       "<table border=\"1\" class=\"dataframe\">\n",
       "  <thead>\n",
       "    <tr style=\"text-align: right;\">\n",
       "      <th></th>\n",
       "      <th>actual</th>\n",
       "      <th>model1</th>\n",
       "      <th>model2</th>\n",
       "      <th>model3</th>\n",
       "      <th>Baseline</th>\n",
       "    </tr>\n",
       "  </thead>\n",
       "  <tbody>\n",
       "    <tr>\n",
       "      <th>0</th>\n",
       "      <td>No Defect</td>\n",
       "      <td>No Defect</td>\n",
       "      <td>Defect</td>\n",
       "      <td>No Defect</td>\n",
       "      <td>No Defect</td>\n",
       "    </tr>\n",
       "    <tr>\n",
       "      <th>1</th>\n",
       "      <td>No Defect</td>\n",
       "      <td>No Defect</td>\n",
       "      <td>Defect</td>\n",
       "      <td>Defect</td>\n",
       "      <td>No Defect</td>\n",
       "    </tr>\n",
       "    <tr>\n",
       "      <th>2</th>\n",
       "      <td>No Defect</td>\n",
       "      <td>No Defect</td>\n",
       "      <td>Defect</td>\n",
       "      <td>No Defect</td>\n",
       "      <td>No Defect</td>\n",
       "    </tr>\n",
       "    <tr>\n",
       "      <th>3</th>\n",
       "      <td>No Defect</td>\n",
       "      <td>Defect</td>\n",
       "      <td>Defect</td>\n",
       "      <td>Defect</td>\n",
       "      <td>No Defect</td>\n",
       "    </tr>\n",
       "    <tr>\n",
       "      <th>4</th>\n",
       "      <td>No Defect</td>\n",
       "      <td>No Defect</td>\n",
       "      <td>Defect</td>\n",
       "      <td>No Defect</td>\n",
       "      <td>No Defect</td>\n",
       "    </tr>\n",
       "  </tbody>\n",
       "</table>\n",
       "</div>"
      ],
      "text/plain": [
       "      actual     model1  model2     model3   Baseline\n",
       "0  No Defect  No Defect  Defect  No Defect  No Defect\n",
       "1  No Defect  No Defect  Defect     Defect  No Defect\n",
       "2  No Defect  No Defect  Defect  No Defect  No Defect\n",
       "3  No Defect     Defect  Defect     Defect  No Defect\n",
       "4  No Defect  No Defect  Defect  No Defect  No Defect"
      ]
     },
     "execution_count": 78,
     "metadata": {},
     "output_type": "execute_result"
    }
   ],
   "source": [
    "duck = pd.read_csv('c3.csv')\n",
    "duck['Baseline'] = 'No Defect'\n",
    "duck.head()"
   ]
  },
  {
   "cell_type": "code",
   "execution_count": 79,
   "metadata": {},
   "outputs": [],
   "source": [
    "#An internal team wants to investigate\n",
    "#the cause of the manufacturing defects. \n",
    "#They tell you that they want to identify as many \n",
    "#of the ducks that have a defect as possible.'\n",
    "#Which evaluation metric would be appropriate here? \n",
    "#Which model would be the best fit for this use case?"
   ]
  },
  {
   "cell_type": "code",
   "execution_count": 87,
   "metadata": {},
   "outputs": [],
   "source": [
    "#Positive = has defect \n",
    "#TP predict defect, has defect\n",
    "#FP predict defect, has no defect \n",
    "#FN does not predict defect, has defect \n",
    "#TN does not predict defect, has no defect \n",
    "\n",
    "#best case scenerio to use recall. we care about our predictive positives is relation\n",
    "#to all our postive predictions \n",
    "#(of all the times we our actuals were positive, how accurate were our predictions?)\n",
    "#we care about our prediction positives in comparison to all our actual observartions"
   ]
  },
  {
   "cell_type": "code",
   "execution_count": 88,
   "metadata": {},
   "outputs": [
    {
     "data": {
      "text/plain": [
       "(0.5, 0.5625, 0.8125, 0.0)"
      ]
     },
     "execution_count": 88,
     "metadata": {},
     "output_type": "execute_result"
    }
   ],
   "source": [
    "subset = duck[duck.actual == 'Defect']\n",
    "recall_model1 = (subset.actual == subset.model1).mean()\n",
    "recall_model2 = (subset.actual == subset.model2).mean()\n",
    "recall_model3 = (subset.actual == subset.model3).mean()\n",
    "recall_modelB = (subset.actual == subset.Baseline).mean()\n",
    "\n",
    "recall_model1, recall_model2, recall_model3,recall_modelB\n",
    "#model 3  is the best model for our actual"
   ]
  },
  {
   "cell_type": "code",
   "execution_count": 15,
   "metadata": {},
   "outputs": [],
   "source": [
    "#Recently several stories in the local news have come out highlighting \n",
    "#customers who received a rubber duck with a defect, and portraying C3 in a bad light.\n",
    "#The PR team has decided to launch a program that gives customers with a defective \n",
    "#duck a vacation to Hawaii. They need you to predict which ducks will have defects,\n",
    "#but tell you the really don't want to accidentally \n",
    "#give out a vacation package when the duck really doesn't have a defect. \n",
    "#Which evaluation metric would be appropriate here? Which model would be the \n",
    "#best fit for this use case?\n",
    "\n",
    "#Positive = has defect\n",
    "#TP = predict defect, actual defect = trip to HI\n",
    "#FP = predict defect, no actual defect = trip to HI\n",
    "#FN = does not predict defect, has defect = no trip to HI\n",
    "#TN = does not predict defect,  has no defect = no trip to hawaii\n",
    "\n",
    "#We care about whether our prediction is postive, (as positive predictions would \n",
    "#equate to a trip to hawaii), in comparison to all predicted observations .\n",
    "#Precision is the best model to use here\n"
   ]
  },
  {
   "cell_type": "code",
   "execution_count": 84,
   "metadata": {},
   "outputs": [],
   "source": [
    "pres1 = duck[duck.model1 == 'Defect']\n",
    "pres2 = duck[duck.model2 == 'Defect']\n",
    "pres3 = duck[duck.model3 == 'Defect']\n",
    "presB = duck[duck.Baseline == 'Defect']\n",
    "\n",
    "pre1 = (pres1.actual == pres1.model1).mean()\n",
    "pre2 = (pres2.actual == pres2.model2).mean()\n",
    "pre3 = (pres3.actual == pres3.model3).mean()\n",
    "preB = (presB.actual == presB.Baseline).mean()"
   ]
  },
  {
   "cell_type": "code",
   "execution_count": 86,
   "metadata": {},
   "outputs": [
    {
     "data": {
      "text/plain": [
       "(0.8, 0.1, 0.13131313131313133, nan)"
      ]
     },
     "execution_count": 86,
     "metadata": {},
     "output_type": "execute_result"
    }
   ],
   "source": [
    "pre1, pre2, pre3, preB\n",
    "#model 1 is the best case for presision"
   ]
  },
  {
   "cell_type": "code",
   "execution_count": 32,
   "metadata": {},
   "outputs": [],
   "source": [
    "#4"
   ]
  },
  {
   "cell_type": "code",
   "execution_count": 34,
   "metadata": {},
   "outputs": [],
   "source": [
    "#You are working as a data scientist for Gives You Paws ™, a subscription based\n",
    "#service that shows you cute pictures of dogs or cats (or both for an additional fee).\n",
    "\n",
    "#At Gives You Paws, anyone can upload pictures of their cats or dogs. \n",
    "#The photos are then put through a two step process. \n",
    "#First an automated algorithm tags pictures as either a cat or a dog (Phase I).\n",
    "#Next, the photos that have been initially identified are put through another round \n",
    "#of review, possibly with some human oversight, before being presented to the users \n",
    "#(Phase II)"
   ]
  },
  {
   "cell_type": "code",
   "execution_count": 46,
   "metadata": {},
   "outputs": [
    {
     "data": {
      "text/html": [
       "<div>\n",
       "<style scoped>\n",
       "    .dataframe tbody tr th:only-of-type {\n",
       "        vertical-align: middle;\n",
       "    }\n",
       "\n",
       "    .dataframe tbody tr th {\n",
       "        vertical-align: top;\n",
       "    }\n",
       "\n",
       "    .dataframe thead th {\n",
       "        text-align: right;\n",
       "    }\n",
       "</style>\n",
       "<table border=\"1\" class=\"dataframe\">\n",
       "  <thead>\n",
       "    <tr style=\"text-align: right;\">\n",
       "      <th></th>\n",
       "      <th>actual</th>\n",
       "      <th>model1</th>\n",
       "      <th>model2</th>\n",
       "      <th>model3</th>\n",
       "      <th>model4</th>\n",
       "    </tr>\n",
       "  </thead>\n",
       "  <tbody>\n",
       "    <tr>\n",
       "      <th>0</th>\n",
       "      <td>cat</td>\n",
       "      <td>cat</td>\n",
       "      <td>dog</td>\n",
       "      <td>cat</td>\n",
       "      <td>dog</td>\n",
       "    </tr>\n",
       "    <tr>\n",
       "      <th>1</th>\n",
       "      <td>dog</td>\n",
       "      <td>dog</td>\n",
       "      <td>cat</td>\n",
       "      <td>cat</td>\n",
       "      <td>dog</td>\n",
       "    </tr>\n",
       "    <tr>\n",
       "      <th>2</th>\n",
       "      <td>dog</td>\n",
       "      <td>cat</td>\n",
       "      <td>cat</td>\n",
       "      <td>cat</td>\n",
       "      <td>dog</td>\n",
       "    </tr>\n",
       "    <tr>\n",
       "      <th>3</th>\n",
       "      <td>dog</td>\n",
       "      <td>dog</td>\n",
       "      <td>dog</td>\n",
       "      <td>cat</td>\n",
       "      <td>dog</td>\n",
       "    </tr>\n",
       "    <tr>\n",
       "      <th>4</th>\n",
       "      <td>cat</td>\n",
       "      <td>cat</td>\n",
       "      <td>cat</td>\n",
       "      <td>dog</td>\n",
       "      <td>dog</td>\n",
       "    </tr>\n",
       "    <tr>\n",
       "      <th>...</th>\n",
       "      <td>...</td>\n",
       "      <td>...</td>\n",
       "      <td>...</td>\n",
       "      <td>...</td>\n",
       "      <td>...</td>\n",
       "    </tr>\n",
       "    <tr>\n",
       "      <th>4995</th>\n",
       "      <td>dog</td>\n",
       "      <td>dog</td>\n",
       "      <td>dog</td>\n",
       "      <td>dog</td>\n",
       "      <td>dog</td>\n",
       "    </tr>\n",
       "    <tr>\n",
       "      <th>4996</th>\n",
       "      <td>dog</td>\n",
       "      <td>dog</td>\n",
       "      <td>cat</td>\n",
       "      <td>cat</td>\n",
       "      <td>dog</td>\n",
       "    </tr>\n",
       "    <tr>\n",
       "      <th>4997</th>\n",
       "      <td>dog</td>\n",
       "      <td>cat</td>\n",
       "      <td>cat</td>\n",
       "      <td>dog</td>\n",
       "      <td>dog</td>\n",
       "    </tr>\n",
       "    <tr>\n",
       "      <th>4998</th>\n",
       "      <td>cat</td>\n",
       "      <td>cat</td>\n",
       "      <td>cat</td>\n",
       "      <td>cat</td>\n",
       "      <td>dog</td>\n",
       "    </tr>\n",
       "    <tr>\n",
       "      <th>4999</th>\n",
       "      <td>dog</td>\n",
       "      <td>dog</td>\n",
       "      <td>dog</td>\n",
       "      <td>dog</td>\n",
       "      <td>dog</td>\n",
       "    </tr>\n",
       "  </tbody>\n",
       "</table>\n",
       "<p>5000 rows × 5 columns</p>\n",
       "</div>"
      ],
      "text/plain": [
       "     actual model1 model2 model3 model4\n",
       "0       cat    cat    dog    cat    dog\n",
       "1       dog    dog    cat    cat    dog\n",
       "2       dog    cat    cat    cat    dog\n",
       "3       dog    dog    dog    cat    dog\n",
       "4       cat    cat    cat    dog    dog\n",
       "...     ...    ...    ...    ...    ...\n",
       "4995    dog    dog    dog    dog    dog\n",
       "4996    dog    dog    cat    cat    dog\n",
       "4997    dog    cat    cat    dog    dog\n",
       "4998    cat    cat    cat    cat    dog\n",
       "4999    dog    dog    dog    dog    dog\n",
       "\n",
       "[5000 rows x 5 columns]"
      ]
     },
     "execution_count": 46,
     "metadata": {},
     "output_type": "execute_result"
    }
   ],
   "source": [
    "gp_df = pd.read_csv('gives_you_paws.csv')\n",
    "gp_df "
   ]
  },
  {
   "cell_type": "code",
   "execution_count": 47,
   "metadata": {},
   "outputs": [
    {
     "data": {
      "text/plain": [
       "dog    3254\n",
       "cat    1746\n",
       "Name: actual, dtype: int64"
      ]
     },
     "execution_count": 47,
     "metadata": {},
     "output_type": "execute_result"
    }
   ],
   "source": [
    "#most common occurance \n",
    "gp_df.actual.value_counts()"
   ]
  },
  {
   "cell_type": "code",
   "execution_count": 48,
   "metadata": {},
   "outputs": [],
   "source": [
    "#set baseline for most common occurance\n",
    "gp_df['Baseline'] = 'dog'"
   ]
  },
  {
   "cell_type": "code",
   "execution_count": 49,
   "metadata": {},
   "outputs": [],
   "source": [
    "#In terms of accuracy,\n",
    "#how do the various models compare to the baseline model? \n",
    "#Are any of the models better than the baseline?"
   ]
  },
  {
   "cell_type": "code",
   "execution_count": 51,
   "metadata": {},
   "outputs": [],
   "source": [
    "acc1 = (gp_df.actual == gp_df.model1).mean()\n",
    "acc2 = (gp_df.actual == gp_df.model2).mean()\n",
    "acc3 = (gp_df.actual == gp_df.model3).mean()\n",
    "acc4 = (gp_df.actual == gp_df.model4).mean()\n",
    "accB = (gp_df.actual == gp_df.Baseline).mean()"
   ]
  },
  {
   "cell_type": "code",
   "execution_count": 52,
   "metadata": {},
   "outputs": [
    {
     "data": {
      "text/plain": [
       "(0.8074, 0.6304, 0.5096, 0.7426, 0.6508)"
      ]
     },
     "execution_count": 52,
     "metadata": {},
     "output_type": "execute_result"
    }
   ],
   "source": [
    "#in terms of accuracy, model one compares the best to the actual\n",
    "acc1, acc2, acc3, acc4, accB"
   ]
  },
  {
   "cell_type": "code",
   "execution_count": 53,
   "metadata": {},
   "outputs": [],
   "source": [
    "#Suppose you are working on a team that solely deals with dog pictures. \n",
    "#Which of these models would you recomend for Phase I? For Phase II?\n",
    "\n",
    "#Postive = dog\n",
    "#TP = predict dog, is dog\n",
    "#FP = predict dog, is cat\n",
    "#FN = predict cat, is dog\n",
    "#TN = predict cat, is cat\n",
    "\n",
    "#Phase I - Accuracy is priority, tagging a dog cat is just as costly as tagging \n",
    "# a cat dog. Accuracy is important in Phase I\n",
    "\n",
    "#Phase II - For a team that deals with dogs only. our false positive is the most costly.\n",
    "#so predicting dog and being correct is priority. Precision looks at the accuracy\n",
    "# of our true positive in relation to all our positives. Presiscion is the best measure\n",
    "\n",
    "#Suppose you are working on a team that solely deals with dog pictures. \n",
    "#Which of these models would you recomend for Phase I? For Phase II?\n",
    "\n",
    "#Phase I - Accuracy is priority, tagging a dog cat is just as costly as tagging \n",
    "# a cat dog. Accuracy is important in Phase I\n",
    "\n",
    "#Phase II - For a team that deals with cats only. our false negative is the most costly.\n",
    "#so not predicting dog and being correct is priority. Recall looks at the accuracy\n",
    "# of our true negative in relation to all our negatives. Recall is the best measure\n"
   ]
  },
  {
   "cell_type": "code",
   "execution_count": 54,
   "metadata": {},
   "outputs": [],
   "source": [
    "#5\n",
    "from sklearn.metrics import accuracy_score\n",
    "from sklearn.metrics import precision_score\n",
    "from sklearn.metrics import recall_score\n",
    "from sklearn.metrics import classification_report"
   ]
  },
  {
   "cell_type": "code",
   "execution_count": 58,
   "metadata": {},
   "outputs": [],
   "source": [
    "a1 = accuracy_score(gp_df.actual, gp_df.model1)\n",
    "a2 = accuracy_score(gp_df.actual, gp_df.model2)\n",
    "a3 = accuracy_score(gp_df.actual, gp_df.model3)\n",
    "a4 = accuracy_score(gp_df.actual, gp_df.model4)\n",
    "aB = accuracy_score(gp_df.actual, gp_df.Baseline)"
   ]
  },
  {
   "cell_type": "code",
   "execution_count": 59,
   "metadata": {},
   "outputs": [
    {
     "data": {
      "text/plain": [
       "(0.8074, 0.6304, 0.5096, 0.7426, 0.6508)"
      ]
     },
     "execution_count": 59,
     "metadata": {},
     "output_type": "execute_result"
    }
   ],
   "source": [
    "a1,a2,a3,a4,aB"
   ]
  },
  {
   "cell_type": "code",
   "execution_count": 66,
   "metadata": {},
   "outputs": [],
   "source": [
    "p1 = precision_score(gp_df.actual, gp_df.model1, pos_label='dog')\n",
    "p2 = precision_score(gp_df.actual, gp_df.model2, pos_label='dog')\n",
    "p3 = precision_score(gp_df.actual, gp_df.model3, pos_label='dog')\n",
    "p4 = precision_score(gp_df.actual, gp_df.model4, pos_label='dog')\n",
    "pB = precision_score(gp_df.actual, gp_df.Baseline, pos_label='dog')"
   ]
  },
  {
   "cell_type": "code",
   "execution_count": 67,
   "metadata": {},
   "outputs": [
    {
     "data": {
      "text/plain": [
       "(0.8900238338440586,\n",
       " 0.8931767337807607,\n",
       " 0.6598883572567783,\n",
       " 0.7312485304490948,\n",
       " 0.6508)"
      ]
     },
     "execution_count": 67,
     "metadata": {},
     "output_type": "execute_result"
    }
   ],
   "source": [
    "p1, p2, p3,p4,pB"
   ]
  },
  {
   "cell_type": "code",
   "execution_count": 68,
   "metadata": {},
   "outputs": [],
   "source": [
    "r1 = recall_score(gp_df.actual, gp_df.model1, pos_label='dog')\n",
    "r2 = recall_score(gp_df.actual, gp_df.model2, pos_label='dog')\n",
    "r3 = recall_score(gp_df.actual, gp_df.model3, pos_label='dog')\n",
    "r4 = recall_score(gp_df.actual, gp_df.model4, pos_label='dog')\n",
    "rB = recall_score(gp_df.actual, gp_df.Baseline, pos_label='dog')"
   ]
  },
  {
   "cell_type": "code",
   "execution_count": 69,
   "metadata": {},
   "outputs": [
    {
     "data": {
      "text/plain": [
       "(0.803318992009834,\n",
       " 0.49078057775046097,\n",
       " 0.5086047940995697,\n",
       " 0.9557467732022127,\n",
       " 1.0)"
      ]
     },
     "execution_count": 69,
     "metadata": {},
     "output_type": "execute_result"
    }
   ],
   "source": [
    "r1,r2,r3,r4,rB"
   ]
  },
  {
   "cell_type": "code",
   "execution_count": 73,
   "metadata": {},
   "outputs": [
    {
     "name": "stdout",
     "output_type": "stream",
     "text": [
      "              precision    recall  f1-score   support\n",
      "\n",
      "         cat       0.69      0.82      0.75      1746\n",
      "         dog       0.89      0.80      0.84      3254\n",
      "\n",
      "    accuracy                           0.81      5000\n",
      "   macro avg       0.79      0.81      0.80      5000\n",
      "weighted avg       0.82      0.81      0.81      5000\n",
      "\n"
     ]
    }
   ],
   "source": [
    "print(classification_report(gp_df.actual, gp_df.model1))"
   ]
  },
  {
   "cell_type": "code",
   "execution_count": null,
   "metadata": {},
   "outputs": [],
   "source": []
  }
 ],
 "metadata": {
  "kernelspec": {
   "display_name": "Python 3",
   "language": "python",
   "name": "python3"
  },
  "language_info": {
   "codemirror_mode": {
    "name": "ipython",
    "version": 3
   },
   "file_extension": ".py",
   "mimetype": "text/x-python",
   "name": "python",
   "nbconvert_exporter": "python",
   "pygments_lexer": "ipython3",
   "version": "3.8.5"
  }
 },
 "nbformat": 4,
 "nbformat_minor": 4
}
