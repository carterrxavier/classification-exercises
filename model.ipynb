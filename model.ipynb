{
 "cells": [
  {
   "cell_type": "code",
   "execution_count": 1,
   "metadata": {},
   "outputs": [],
   "source": [
    "import pandas as pd \n",
    "import numpy as np\n",
    "import aquire as aq\n",
    "import prepare as pr\n",
    "import warnings \n",
    "warnings.filterwarnings('ignore')\n",
    "\n",
    "import graphviz\n",
    "from sklearn.dummy import DummyClassifier\n",
    "from sklearn.tree import DecisionTreeClassifier\n",
    "from sklearn.tree import export_graphviz\n",
    "from sklearn.metrics import classification_report\n",
    "from sklearn.metrics import confusion_matrix"
   ]
  },
  {
   "cell_type": "code",
   "execution_count": 2,
   "metadata": {},
   "outputs": [
    {
     "data": {
      "text/html": [
       "<div>\n",
       "<style scoped>\n",
       "    .dataframe tbody tr th:only-of-type {\n",
       "        vertical-align: middle;\n",
       "    }\n",
       "\n",
       "    .dataframe tbody tr th {\n",
       "        vertical-align: top;\n",
       "    }\n",
       "\n",
       "    .dataframe thead th {\n",
       "        text-align: right;\n",
       "    }\n",
       "</style>\n",
       "<table border=\"1\" class=\"dataframe\">\n",
       "  <thead>\n",
       "    <tr style=\"text-align: right;\">\n",
       "      <th></th>\n",
       "      <th>Unnamed: 0</th>\n",
       "      <th>passenger_id</th>\n",
       "      <th>survived</th>\n",
       "      <th>pclass</th>\n",
       "      <th>sex</th>\n",
       "      <th>age</th>\n",
       "      <th>sibsp</th>\n",
       "      <th>parch</th>\n",
       "      <th>fare</th>\n",
       "      <th>embarked</th>\n",
       "      <th>class</th>\n",
       "      <th>deck</th>\n",
       "      <th>embark_town</th>\n",
       "      <th>alone</th>\n",
       "    </tr>\n",
       "  </thead>\n",
       "  <tbody>\n",
       "    <tr>\n",
       "      <th>0</th>\n",
       "      <td>0</td>\n",
       "      <td>0</td>\n",
       "      <td>0</td>\n",
       "      <td>3</td>\n",
       "      <td>male</td>\n",
       "      <td>22.0</td>\n",
       "      <td>1</td>\n",
       "      <td>0</td>\n",
       "      <td>7.25</td>\n",
       "      <td>S</td>\n",
       "      <td>Third</td>\n",
       "      <td>NaN</td>\n",
       "      <td>Southampton</td>\n",
       "      <td>0</td>\n",
       "    </tr>\n",
       "  </tbody>\n",
       "</table>\n",
       "</div>"
      ],
      "text/plain": [
       "   Unnamed: 0  passenger_id  survived  pclass   sex   age  sibsp  parch  fare  \\\n",
       "0           0             0         0       3  male  22.0      1      0  7.25   \n",
       "\n",
       "  embarked  class deck  embark_town  alone  \n",
       "0        S  Third  NaN  Southampton      0  "
      ]
     },
     "execution_count": 2,
     "metadata": {},
     "output_type": "execute_result"
    }
   ],
   "source": [
    "#get and prepare titanic data\n",
    "t_df = aq.new_titanic_data()\n",
    "t_df[:1]"
   ]
  },
  {
   "cell_type": "code",
   "execution_count": 3,
   "metadata": {},
   "outputs": [
    {
     "data": {
      "text/html": [
       "<div>\n",
       "<style scoped>\n",
       "    .dataframe tbody tr th:only-of-type {\n",
       "        vertical-align: middle;\n",
       "    }\n",
       "\n",
       "    .dataframe tbody tr th {\n",
       "        vertical-align: top;\n",
       "    }\n",
       "\n",
       "    .dataframe thead th {\n",
       "        text-align: right;\n",
       "    }\n",
       "</style>\n",
       "<table border=\"1\" class=\"dataframe\">\n",
       "  <thead>\n",
       "    <tr style=\"text-align: right;\">\n",
       "      <th></th>\n",
       "      <th>survived</th>\n",
       "      <th>pclass</th>\n",
       "      <th>age</th>\n",
       "      <th>sibsp</th>\n",
       "      <th>parch</th>\n",
       "      <th>fare</th>\n",
       "      <th>alone</th>\n",
       "      <th>Q</th>\n",
       "      <th>S</th>\n",
       "      <th>male</th>\n",
       "    </tr>\n",
       "  </thead>\n",
       "  <tbody>\n",
       "    <tr>\n",
       "      <th>583</th>\n",
       "      <td>0</td>\n",
       "      <td>1</td>\n",
       "      <td>36.0</td>\n",
       "      <td>0</td>\n",
       "      <td>0</td>\n",
       "      <td>40.125</td>\n",
       "      <td>1</td>\n",
       "      <td>0</td>\n",
       "      <td>0</td>\n",
       "      <td>1</td>\n",
       "    </tr>\n",
       "  </tbody>\n",
       "</table>\n",
       "</div>"
      ],
      "text/plain": [
       "     survived  pclass   age  sibsp  parch    fare  alone  Q  S  male\n",
       "583         0       1  36.0      0      0  40.125      1  0  0     1"
      ]
     },
     "execution_count": 3,
     "metadata": {},
     "output_type": "execute_result"
    }
   ],
   "source": [
    "#prep and create our train, validate and test dataframes/ creates dummies for string catagoricals\n",
    "train, validate, test = pr.prep_titanic(t_df)\n",
    "train[:1]"
   ]
  },
  {
   "cell_type": "code",
   "execution_count": 10,
   "metadata": {},
   "outputs": [],
   "source": [
    "#create x and y values for train x = df with the target missing, y = target variable\n",
    "X_train = train.drop(columns=['survived']) \n",
    "y_train = train.survived\n",
    "X_validate = validate.drop(columns=['survived']) \n",
    "y_validate = validate.survived\n",
    "X_test = test.drop(columns=['survived']) \n",
    "y_test = test.survived\n"
   ]
  },
  {
   "cell_type": "code",
   "execution_count": 68,
   "metadata": {},
   "outputs": [],
   "source": [
    "#1\n",
    "#What is your baseline prediction? What is your baseline accuracy? \n",
    "#remember: your baseline prediction for a classification problem is predicting \n",
    "#the most prevelant class in the training dataset (the mode). \n",
    "#When you make those predictions, what is your accuracy? This is your baseline accuracy."
   ]
  },
  {
   "cell_type": "code",
   "execution_count": 69,
   "metadata": {},
   "outputs": [
    {
     "data": {
      "text/plain": [
       "0    307\n",
       "1    190\n",
       "Name: survived, dtype: int64"
      ]
     },
     "execution_count": 69,
     "metadata": {},
     "output_type": "execute_result"
    }
   ],
   "source": [
    "#find best base case\n",
    "train.survived.value_counts()"
   ]
  },
  {
   "cell_type": "code",
   "execution_count": 70,
   "metadata": {},
   "outputs": [],
   "source": [
    "#set base case to 0\n",
    "base_model = DummyClassifier(strategy='constant', constant=0)"
   ]
  },
  {
   "cell_type": "code",
   "execution_count": 71,
   "metadata": {},
   "outputs": [
    {
     "data": {
      "text/plain": [
       "DummyClassifier(constant=0, strategy='constant')"
      ]
     },
     "execution_count": 71,
     "metadata": {},
     "output_type": "execute_result"
    }
   ],
   "source": [
    "#fit our model\n",
    "base_model.fit(X_train, y_train)"
   ]
  },
  {
   "cell_type": "code",
   "execution_count": 96,
   "metadata": {},
   "outputs": [
    {
     "name": "stdout",
     "output_type": "stream",
     "text": [
      "Baseline accuracy: 61.771 %\n"
     ]
    }
   ],
   "source": [
    "baseline = base_model.score(X_train , y_train)\n",
    "print('Baseline accuracy: {:.3f} %'.format(baseline * 100))"
   ]
  },
  {
   "cell_type": "code",
   "execution_count": 74,
   "metadata": {},
   "outputs": [
    {
     "data": {
      "text/html": [
       "<div>\n",
       "<style scoped>\n",
       "    .dataframe tbody tr th:only-of-type {\n",
       "        vertical-align: middle;\n",
       "    }\n",
       "\n",
       "    .dataframe tbody tr th {\n",
       "        vertical-align: top;\n",
       "    }\n",
       "\n",
       "    .dataframe thead th {\n",
       "        text-align: right;\n",
       "    }\n",
       "</style>\n",
       "<table border=\"1\" class=\"dataframe\">\n",
       "  <thead>\n",
       "    <tr style=\"text-align: right;\">\n",
       "      <th></th>\n",
       "      <th>survived</th>\n",
       "      <th>pclass</th>\n",
       "      <th>age</th>\n",
       "      <th>sibsp</th>\n",
       "      <th>parch</th>\n",
       "      <th>fare</th>\n",
       "      <th>alone</th>\n",
       "      <th>Q</th>\n",
       "      <th>S</th>\n",
       "      <th>male</th>\n",
       "      <th>pred</th>\n",
       "      <th>pred_1</th>\n",
       "      <th>pred_2</th>\n",
       "      <th>pred_3</th>\n",
       "    </tr>\n",
       "  </thead>\n",
       "  <tbody>\n",
       "    <tr>\n",
       "      <th>583</th>\n",
       "      <td>0</td>\n",
       "      <td>1</td>\n",
       "      <td>36.000000</td>\n",
       "      <td>0</td>\n",
       "      <td>0</td>\n",
       "      <td>40.1250</td>\n",
       "      <td>1</td>\n",
       "      <td>0</td>\n",
       "      <td>0</td>\n",
       "      <td>1</td>\n",
       "      <td>0</td>\n",
       "      <td>0</td>\n",
       "      <td>0</td>\n",
       "      <td>0</td>\n",
       "    </tr>\n",
       "    <tr>\n",
       "      <th>337</th>\n",
       "      <td>1</td>\n",
       "      <td>1</td>\n",
       "      <td>41.000000</td>\n",
       "      <td>0</td>\n",
       "      <td>0</td>\n",
       "      <td>134.5000</td>\n",
       "      <td>1</td>\n",
       "      <td>0</td>\n",
       "      <td>0</td>\n",
       "      <td>0</td>\n",
       "      <td>1</td>\n",
       "      <td>1</td>\n",
       "      <td>1</td>\n",
       "      <td>1</td>\n",
       "    </tr>\n",
       "    <tr>\n",
       "      <th>50</th>\n",
       "      <td>0</td>\n",
       "      <td>3</td>\n",
       "      <td>7.000000</td>\n",
       "      <td>4</td>\n",
       "      <td>1</td>\n",
       "      <td>39.6875</td>\n",
       "      <td>0</td>\n",
       "      <td>0</td>\n",
       "      <td>1</td>\n",
       "      <td>1</td>\n",
       "      <td>0</td>\n",
       "      <td>0</td>\n",
       "      <td>0</td>\n",
       "      <td>0</td>\n",
       "    </tr>\n",
       "    <tr>\n",
       "      <th>218</th>\n",
       "      <td>1</td>\n",
       "      <td>1</td>\n",
       "      <td>32.000000</td>\n",
       "      <td>0</td>\n",
       "      <td>0</td>\n",
       "      <td>76.2917</td>\n",
       "      <td>1</td>\n",
       "      <td>0</td>\n",
       "      <td>0</td>\n",
       "      <td>0</td>\n",
       "      <td>1</td>\n",
       "      <td>1</td>\n",
       "      <td>1</td>\n",
       "      <td>1</td>\n",
       "    </tr>\n",
       "    <tr>\n",
       "      <th>31</th>\n",
       "      <td>1</td>\n",
       "      <td>1</td>\n",
       "      <td>29.916875</td>\n",
       "      <td>1</td>\n",
       "      <td>0</td>\n",
       "      <td>146.5208</td>\n",
       "      <td>0</td>\n",
       "      <td>0</td>\n",
       "      <td>0</td>\n",
       "      <td>0</td>\n",
       "      <td>1</td>\n",
       "      <td>1</td>\n",
       "      <td>1</td>\n",
       "      <td>1</td>\n",
       "    </tr>\n",
       "    <tr>\n",
       "      <th>308</th>\n",
       "      <td>0</td>\n",
       "      <td>2</td>\n",
       "      <td>30.000000</td>\n",
       "      <td>1</td>\n",
       "      <td>0</td>\n",
       "      <td>24.0000</td>\n",
       "      <td>0</td>\n",
       "      <td>0</td>\n",
       "      <td>0</td>\n",
       "      <td>1</td>\n",
       "      <td>0</td>\n",
       "      <td>0</td>\n",
       "      <td>0</td>\n",
       "      <td>0</td>\n",
       "    </tr>\n",
       "    <tr>\n",
       "      <th>314</th>\n",
       "      <td>0</td>\n",
       "      <td>2</td>\n",
       "      <td>43.000000</td>\n",
       "      <td>1</td>\n",
       "      <td>1</td>\n",
       "      <td>26.2500</td>\n",
       "      <td>0</td>\n",
       "      <td>0</td>\n",
       "      <td>1</td>\n",
       "      <td>1</td>\n",
       "      <td>0</td>\n",
       "      <td>0</td>\n",
       "      <td>0</td>\n",
       "      <td>0</td>\n",
       "    </tr>\n",
       "    <tr>\n",
       "      <th>883</th>\n",
       "      <td>0</td>\n",
       "      <td>2</td>\n",
       "      <td>28.000000</td>\n",
       "      <td>0</td>\n",
       "      <td>0</td>\n",
       "      <td>10.5000</td>\n",
       "      <td>1</td>\n",
       "      <td>0</td>\n",
       "      <td>1</td>\n",
       "      <td>1</td>\n",
       "      <td>0</td>\n",
       "      <td>0</td>\n",
       "      <td>0</td>\n",
       "      <td>0</td>\n",
       "    </tr>\n",
       "    <tr>\n",
       "      <th>459</th>\n",
       "      <td>0</td>\n",
       "      <td>3</td>\n",
       "      <td>29.916875</td>\n",
       "      <td>0</td>\n",
       "      <td>0</td>\n",
       "      <td>7.7500</td>\n",
       "      <td>1</td>\n",
       "      <td>1</td>\n",
       "      <td>0</td>\n",
       "      <td>1</td>\n",
       "      <td>0</td>\n",
       "      <td>0</td>\n",
       "      <td>0</td>\n",
       "      <td>0</td>\n",
       "    </tr>\n",
       "  </tbody>\n",
       "</table>\n",
       "</div>"
      ],
      "text/plain": [
       "     survived  pclass        age  sibsp  parch      fare  alone  Q  S  male  \\\n",
       "583         0       1  36.000000      0      0   40.1250      1  0  0     1   \n",
       "337         1       1  41.000000      0      0  134.5000      1  0  0     0   \n",
       "50          0       3   7.000000      4      1   39.6875      0  0  1     1   \n",
       "218         1       1  32.000000      0      0   76.2917      1  0  0     0   \n",
       "31          1       1  29.916875      1      0  146.5208      0  0  0     0   \n",
       "308         0       2  30.000000      1      0   24.0000      0  0  0     1   \n",
       "314         0       2  43.000000      1      1   26.2500      0  0  1     1   \n",
       "883         0       2  28.000000      0      0   10.5000      1  0  1     1   \n",
       "459         0       3  29.916875      0      0    7.7500      1  1  0     1   \n",
       "\n",
       "     pred  pred_1  pred_2  pred_3  \n",
       "583     0       0       0       0  \n",
       "337     1       1       1       1  \n",
       "50      0       0       0       0  \n",
       "218     1       1       1       1  \n",
       "31      1       1       1       1  \n",
       "308     0       0       0       0  \n",
       "314     0       0       0       0  \n",
       "883     0       0       0       0  \n",
       "459     0       0       0       0  "
      ]
     },
     "execution_count": 74,
     "metadata": {},
     "output_type": "execute_result"
    }
   ],
   "source": [
    "#2 Fit the decision tree classifier to your \n",
    "#training sample and transform (i.e. make predictions on the training sample)\n",
    "train[:9]"
   ]
  },
  {
   "cell_type": "code",
   "execution_count": 84,
   "metadata": {},
   "outputs": [],
   "source": [
    "#create our trees\n",
    "clf_1 = DecisionTreeClassifier(max_depth=4)\n",
    "clf_2 = DecisionTreeClassifier(max_depth=2, random_state=123)\n",
    "clf_3 = DecisionTreeClassifier(max_depth=5, random_state=980)"
   ]
  },
  {
   "cell_type": "code",
   "execution_count": 85,
   "metadata": {},
   "outputs": [
    {
     "data": {
      "text/plain": [
       "DecisionTreeClassifier(max_depth=5, random_state=980)"
      ]
     },
     "execution_count": 85,
     "metadata": {},
     "output_type": "execute_result"
    }
   ],
   "source": [
    "#train our trees\n",
    "clf_1.fit(X_train, y_train)\n",
    "clf_2.fit(X_train, y_train)\n",
    "clf_3.fit(X_train, y_train)"
   ]
  },
  {
   "cell_type": "code",
   "execution_count": 121,
   "metadata": {},
   "outputs": [],
   "source": [
    "train['pred_1'] = clf_1.predict(X_train)\n",
    "train['pred_2'] = clf_2.predict(X_train)\n",
    "train['pred_3'] = clf_3.predict(X_train)"
   ]
  },
  {
   "cell_type": "code",
   "execution_count": 122,
   "metadata": {},
   "outputs": [],
   "source": [
    "#visualise data"
   ]
  },
  {
   "cell_type": "code",
   "execution_count": 123,
   "metadata": {},
   "outputs": [
    {
     "data": {
      "text/plain": [
       "'titanic_tree_Model_3.pdf'"
      ]
     },
     "execution_count": 123,
     "metadata": {},
     "output_type": "execute_result"
    }
   ],
   "source": [
    "dot_data_1 = export_graphviz(clf_1, feature_names= X_train.columns ,rounded=True, filled=True)\n",
    "dot_data_2 = export_graphviz(clf_2, feature_names= X_train.columns ,rounded=True, filled=True)\n",
    "dot_data_3 = export_graphviz(clf_3, feature_names= X_train.columns ,rounded=True, filled=True)\n",
    "graph_1 = graphviz.Source(dot_data_1)\n",
    "graph_2 = graphviz.Source(dot_data_2)\n",
    "graph_3 = graphviz.Source(dot_data_3)\n",
    "graph_1.render('titanic_tree_Model_1', view=True)\n",
    "graph_2.render('titanic_tree_Model_2', view=True)\n",
    "graph_3.render('titanic_tree_Model_3', view=True)"
   ]
  },
  {
   "cell_type": "code",
   "execution_count": 124,
   "metadata": {},
   "outputs": [
    {
     "name": "stdout",
     "output_type": "stream",
     "text": [
      "Model 1 accuracy: 83.501 % | Model 1 accuracy on validate: 78.505 %\n",
      "Model 2 accuracy: 79.074 % | Model 2 accuracy on validate: 78.037 %\n",
      "Model 3 accuracy: 85.714 % | Model 3 accuracy on validate: 79.439 %\n"
     ]
    }
   ],
   "source": [
    "model_1_score = clf_1.score(X_train,y_train)\n",
    "model_2_score = clf_2.score(X_train,y_train)\n",
    "model_3_score = clf_3.score(X_train,y_train)\n",
    "\n",
    "validate_model_1 = clf_1.score(X_validate,y_validate)\n",
    "validate_model_2 = clf_2.score(X_validate,y_validate)\n",
    "validate_model_3 = clf_3.score(X_validate,y_validate)\n",
    "\n",
    "print('Model 1 accuracy: {:.3f} % | Model 1 accuracy on validate: {:.3f} %'.format(model_1_score * 100 ,validate_model_1 * 100))\n",
    "print('Model 2 accuracy: {:.3f} % | Model 2 accuracy on validate: {:.3f} %'.format(model_2_score * 100 ,validate_model_2 * 100))\n",
    "print('Model 3 accuracy: {:.3f} % | Model 3 accuracy on validate: {:.3f} %'.format(model_3_score * 100 ,validate_model_3 * 100))"
   ]
  },
  {
   "cell_type": "code",
   "execution_count": 125,
   "metadata": {},
   "outputs": [],
   "source": [
    "#in terms of training, accuracy, model 3 is the most accurate but has overfitting.\n",
    "#model 2 preformed reletivly the same for the train and validate. use model 2"
   ]
  },
  {
   "cell_type": "code",
   "execution_count": 126,
   "metadata": {},
   "outputs": [],
   "source": [
    "#compare validate to actual classification report for models\n",
    "y_pred_1 = clf_1.predict(X_validate)\n",
    "y_pred_2 = clf_2.predict(X_validate)\n",
    "y_pred_3 = clf_3.predict(X_validate)\n",
    "report_1 = classification_report(y_validate, y_pred_1,output_dict=True)\n",
    "report_2 = classification_report(y_validate, y_pred_2,output_dict=True)\n",
    "report_3 = classification_report(y_validate, y_pred_3,output_dict=True)"
   ]
  },
  {
   "cell_type": "code",
   "execution_count": 127,
   "metadata": {},
   "outputs": [],
   "source": [
    "df_1, df_2 , df_3 = pd.DataFrame(report_1).transpose(), pd.DataFrame(report_2).transpose(), pd.DataFrame(report_3).transpose()"
   ]
  },
  {
   "cell_type": "code",
   "execution_count": 128,
   "metadata": {},
   "outputs": [
    {
     "data": {
      "text/plain": [
       "(              precision    recall  f1-score     support\n",
       " 0              0.762195  0.946970  0.844595  132.000000\n",
       " 1              0.860000  0.524390  0.651515   82.000000\n",
       " accuracy       0.785047  0.785047  0.785047    0.785047\n",
       " macro avg      0.811098  0.735680  0.748055  214.000000\n",
       " weighted avg   0.799672  0.785047  0.770611  214.000000,\n",
       "               precision    recall  f1-score     support\n",
       " 0              0.748538  0.969697  0.844884  132.000000\n",
       " 1              0.906977  0.475610  0.624000   82.000000\n",
       " accuracy       0.780374  0.780374  0.780374    0.780374\n",
       " macro avg      0.827757  0.722653  0.734442  214.000000\n",
       " weighted avg   0.809248  0.780374  0.760247  214.000000,\n",
       "               precision    recall  f1-score     support\n",
       " 0              0.805556  0.878788  0.840580  132.000000\n",
       " 1              0.771429  0.658537  0.710526   82.000000\n",
       " accuracy       0.794393  0.794393  0.794393    0.794393\n",
       " macro avg      0.788492  0.768662  0.775553  214.000000\n",
       " weighted avg   0.792479  0.794393  0.790746  214.000000)"
      ]
     },
     "execution_count": 128,
     "metadata": {},
     "output_type": "execute_result"
    }
   ],
   "source": [
    "df_1, df_2, df_3"
   ]
  },
  {
   "cell_type": "code",
   "execution_count": 131,
   "metadata": {},
   "outputs": [],
   "source": [
    "#compare train to actual classification report for models\n",
    "y_pred_1 = clf_1.predict(X_train)\n",
    "y_pred_2 = clf_2.predict(X_train)\n",
    "y_pred_3 = clf_3.predict(X_train)\n",
    "report_1 = classification_report(y_train, y_pred_1,output_dict=True)\n",
    "report_2 = classification_report(y_train, y_pred_2,output_dict=True)\n",
    "report_3 = classification_report(y_train, y_pred_3,output_dict=True)\n",
    "df_1, df_2 , df_3 = pd.DataFrame(report_1).transpose(), pd.DataFrame(report_2).transpose(), pd.DataFrame(report_3).transpose()"
   ]
  },
  {
   "cell_type": "code",
   "execution_count": 132,
   "metadata": {},
   "outputs": [
    {
     "data": {
      "text/plain": [
       "(              precision    recall  f1-score    support\n",
       " 0              0.798408  0.980456  0.880117  307.00000\n",
       " 1              0.950000  0.600000  0.735484  190.00000\n",
       " accuracy       0.835010  0.835010  0.835010    0.83501\n",
       " macro avg      0.874204  0.790228  0.807800  497.00000\n",
       " weighted avg   0.856361  0.835010  0.824825  497.00000,\n",
       "               precision    recall  f1-score     support\n",
       " 0              0.751861  0.986971  0.853521  307.000000\n",
       " 1              0.957447  0.473684  0.633803  190.000000\n",
       " accuracy       0.790744  0.790744  0.790744    0.790744\n",
       " macro avg      0.854654  0.730327  0.743662  497.000000\n",
       " weighted avg   0.830455  0.790744  0.769524  497.000000,\n",
       "               precision    recall  f1-score     support\n",
       " 0              0.853293  0.928339  0.889236  307.000000\n",
       " 1              0.865031  0.742105  0.798867  190.000000\n",
       " accuracy       0.857143  0.857143  0.857143    0.857143\n",
       " macro avg      0.859162  0.835222  0.844051  497.000000\n",
       " weighted avg   0.857780  0.857143  0.854688  497.000000)"
      ]
     },
     "execution_count": 132,
     "metadata": {},
     "output_type": "execute_result"
    }
   ],
   "source": [
    "df_1, df_2, df_3"
   ]
  },
  {
   "cell_type": "code",
   "execution_count": 112,
   "metadata": {},
   "outputs": [],
   "source": [
    "#confusion matrix for models for train\n",
    "labels = [\"Dead\", \"Survived\"]\n",
    "y_pred_1 = clf_1.predict(X_train)\n",
    "y_pred_2 = clf_2.predict(X_train)\n",
    "y_pred_3 = clf_3.predict(X_train)\n",
    "\n",
    "cm_1 = pd.DataFrame(confusion_matrix(y_train, y_pred_1),index=labels,columns=labels)\n",
    "cm_2 = pd.DataFrame(confusion_matrix(y_train, y_pred_2),index=labels,columns=labels)\n",
    "cm_3 = pd.DataFrame(confusion_matrix(y_train, y_pred_3),index=labels,columns=labels)"
   ]
  },
  {
   "cell_type": "code",
   "execution_count": 117,
   "metadata": {},
   "outputs": [
    {
     "data": {
      "text/plain": [
       "(          Dead  Survived\n",
       " Dead       125         7\n",
       " Survived    39        43,\n",
       "           Dead  Survived\n",
       " Dead       128         4\n",
       " Survived    43        39,\n",
       "           Dead  Survived\n",
       " Dead       116        16\n",
       " Survived    28        54)"
      ]
     },
     "execution_count": 117,
     "metadata": {},
     "output_type": "execute_result"
    }
   ],
   "source": [
    "cm_1, cm_2, cm_3"
   ]
  },
  {
   "cell_type": "code",
   "execution_count": null,
   "metadata": {},
   "outputs": [],
   "source": []
  },
  {
   "cell_type": "code",
   "execution_count": 115,
   "metadata": {},
   "outputs": [],
   "source": [
    "#confusion matrix for models for validate\n",
    "labels = [\"Dead\", \"Survived\"]\n",
    "y_pred_1 = clf_1.predict(X_validate)\n",
    "y_pred_2 = clf_2.predict(X_validate)\n",
    "y_pred_3 = clf_3.predict(X_validate)\n",
    "\n",
    "cm_1 = pd.DataFrame(confusion_matrix(y_validate, y_pred_1),index=labels,columns=labels)\n",
    "cm_2 = pd.DataFrame(confusion_matrix(y_validate, y_pred_2),index=labels,columns=labels)\n",
    "cm_3 = pd.DataFrame(confusion_matrix(y_validate, y_pred_3),index=labels,columns=labels)"
   ]
  },
  {
   "cell_type": "code",
   "execution_count": 116,
   "metadata": {},
   "outputs": [
    {
     "data": {
      "text/plain": [
       "(          Dead  Survived\n",
       " Dead       125         7\n",
       " Survived    39        43,\n",
       "           Dead  Survived\n",
       " Dead       128         4\n",
       " Survived    43        39,\n",
       "           Dead  Survived\n",
       " Dead       116        16\n",
       " Survived    28        54)"
      ]
     },
     "execution_count": 116,
     "metadata": {},
     "output_type": "execute_result"
    }
   ],
   "source": [
    "cm_1, cm_2, cm_3"
   ]
  },
  {
   "cell_type": "markdown",
   "metadata": {},
   "source": [
    "### #6 Which model performs better on your in-sample data?\n",
    "#### for Positive = Dead\n",
    "\n",
    "- Best for accuracy: Model 3\n",
    "- Best for Recall : Model 2\n",
    "- Best for Precision: Model  3\n"
   ]
  },
  {
   "cell_type": "markdown",
   "metadata": {},
   "source": [
    "### #7 Which model performs better on your out-sample data?\n",
    "#### for Positive = Dead\n",
    "\n",
    "- Best for accuracy: Model 3\n",
    "- Best for Recall : Model 2\n",
    "- Best for Precision: Model  3"
   ]
  },
  {
   "cell_type": "code",
   "execution_count": null,
   "metadata": {},
   "outputs": [],
   "source": []
  }
 ],
 "metadata": {
  "kernelspec": {
   "display_name": "Python 3",
   "language": "python",
   "name": "python3"
  },
  "language_info": {
   "codemirror_mode": {
    "name": "ipython",
    "version": 3
   },
   "file_extension": ".py",
   "mimetype": "text/x-python",
   "name": "python",
   "nbconvert_exporter": "python",
   "pygments_lexer": "ipython3",
   "version": "3.8.5"
  }
 },
 "nbformat": 4,
 "nbformat_minor": 4
}
