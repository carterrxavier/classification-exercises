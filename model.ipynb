{
 "cells": [
  {
   "cell_type": "code",
   "execution_count": 1,
   "metadata": {},
   "outputs": [],
   "source": [
    "import pandas as pd \n",
    "import numpy as np\n",
    "import aquire as aq\n",
    "import prepare as pr\n",
    "import warnings \n",
    "warnings.filterwarnings('ignore')\n",
    "\n",
    "import graphviz\n",
    "from sklearn.dummy import DummyClassifier\n",
    "from sklearn.tree import DecisionTreeClassifier\n",
    "from sklearn.tree import export_graphviz\n",
    "from sklearn.metrics import classification_report\n",
    "from sklearn.metrics import confusion_matrix\n",
    "from sklearn.ensemble import RandomForestClassifier\n",
    "from sklearn.neighbors import KNeighborsClassifier\n",
    "from sklearn.linear_model import LogisticRegression"
   ]
  },
  {
   "cell_type": "code",
   "execution_count": 2,
   "metadata": {},
   "outputs": [
    {
     "data": {
      "text/html": [
       "<div>\n",
       "<style scoped>\n",
       "    .dataframe tbody tr th:only-of-type {\n",
       "        vertical-align: middle;\n",
       "    }\n",
       "\n",
       "    .dataframe tbody tr th {\n",
       "        vertical-align: top;\n",
       "    }\n",
       "\n",
       "    .dataframe thead th {\n",
       "        text-align: right;\n",
       "    }\n",
       "</style>\n",
       "<table border=\"1\" class=\"dataframe\">\n",
       "  <thead>\n",
       "    <tr style=\"text-align: right;\">\n",
       "      <th></th>\n",
       "      <th>Unnamed: 0</th>\n",
       "      <th>passenger_id</th>\n",
       "      <th>survived</th>\n",
       "      <th>pclass</th>\n",
       "      <th>sex</th>\n",
       "      <th>age</th>\n",
       "      <th>sibsp</th>\n",
       "      <th>parch</th>\n",
       "      <th>fare</th>\n",
       "      <th>embarked</th>\n",
       "      <th>class</th>\n",
       "      <th>deck</th>\n",
       "      <th>embark_town</th>\n",
       "      <th>alone</th>\n",
       "    </tr>\n",
       "  </thead>\n",
       "  <tbody>\n",
       "    <tr>\n",
       "      <th>0</th>\n",
       "      <td>0</td>\n",
       "      <td>0</td>\n",
       "      <td>0</td>\n",
       "      <td>3</td>\n",
       "      <td>male</td>\n",
       "      <td>22.0</td>\n",
       "      <td>1</td>\n",
       "      <td>0</td>\n",
       "      <td>7.25</td>\n",
       "      <td>S</td>\n",
       "      <td>Third</td>\n",
       "      <td>NaN</td>\n",
       "      <td>Southampton</td>\n",
       "      <td>0</td>\n",
       "    </tr>\n",
       "  </tbody>\n",
       "</table>\n",
       "</div>"
      ],
      "text/plain": [
       "   Unnamed: 0  passenger_id  survived  pclass   sex   age  sibsp  parch  fare  \\\n",
       "0           0             0         0       3  male  22.0      1      0  7.25   \n",
       "\n",
       "  embarked  class deck  embark_town  alone  \n",
       "0        S  Third  NaN  Southampton      0  "
      ]
     },
     "execution_count": 2,
     "metadata": {},
     "output_type": "execute_result"
    }
   ],
   "source": [
    "#get and prepare titanic data\n",
    "t_df = aq.new_titanic_data()\n",
    "t_df[:1]"
   ]
  },
  {
   "cell_type": "code",
   "execution_count": 3,
   "metadata": {},
   "outputs": [
    {
     "data": {
      "text/html": [
       "<div>\n",
       "<style scoped>\n",
       "    .dataframe tbody tr th:only-of-type {\n",
       "        vertical-align: middle;\n",
       "    }\n",
       "\n",
       "    .dataframe tbody tr th {\n",
       "        vertical-align: top;\n",
       "    }\n",
       "\n",
       "    .dataframe thead th {\n",
       "        text-align: right;\n",
       "    }\n",
       "</style>\n",
       "<table border=\"1\" class=\"dataframe\">\n",
       "  <thead>\n",
       "    <tr style=\"text-align: right;\">\n",
       "      <th></th>\n",
       "      <th>survived</th>\n",
       "      <th>pclass</th>\n",
       "      <th>age</th>\n",
       "      <th>sibsp</th>\n",
       "      <th>parch</th>\n",
       "      <th>fare</th>\n",
       "      <th>alone</th>\n",
       "      <th>Q</th>\n",
       "      <th>S</th>\n",
       "      <th>male</th>\n",
       "    </tr>\n",
       "  </thead>\n",
       "  <tbody>\n",
       "    <tr>\n",
       "      <th>583</th>\n",
       "      <td>0</td>\n",
       "      <td>1</td>\n",
       "      <td>36.0</td>\n",
       "      <td>0</td>\n",
       "      <td>0</td>\n",
       "      <td>40.125</td>\n",
       "      <td>1</td>\n",
       "      <td>0</td>\n",
       "      <td>0</td>\n",
       "      <td>1</td>\n",
       "    </tr>\n",
       "  </tbody>\n",
       "</table>\n",
       "</div>"
      ],
      "text/plain": [
       "     survived  pclass   age  sibsp  parch    fare  alone  Q  S  male\n",
       "583         0       1  36.0      0      0  40.125      1  0  0     1"
      ]
     },
     "execution_count": 3,
     "metadata": {},
     "output_type": "execute_result"
    }
   ],
   "source": [
    "#prep and create our train, validate and test dataframes/ creates dummies for string catagoricals\n",
    "train, validate, test = pr.prep_titanic(t_df)\n",
    "train[:1]"
   ]
  },
  {
   "cell_type": "code",
   "execution_count": 4,
   "metadata": {},
   "outputs": [],
   "source": [
    "#create x and y values for train x = df with the target missing, y = target variable\n",
    "X_train = train.drop(columns=['survived']) \n",
    "y_train = train.survived\n",
    "X_validate = validate.drop(columns=['survived']) \n",
    "y_validate = validate.survived\n",
    "X_test = test.drop(columns=['survived']) \n",
    "y_test = test.survived\n"
   ]
  },
  {
   "cell_type": "code",
   "execution_count": 5,
   "metadata": {},
   "outputs": [],
   "source": [
    "#1\n",
    "#What is your baseline prediction? What is your baseline accuracy? \n",
    "#remember: your baseline prediction for a classification problem is predicting \n",
    "#the most prevelant class in the training dataset (the mode). \n",
    "#When you make those predictions, what is your accuracy? This is your baseline accuracy."
   ]
  },
  {
   "cell_type": "code",
   "execution_count": 6,
   "metadata": {},
   "outputs": [
    {
     "data": {
      "text/plain": [
       "0    307\n",
       "1    190\n",
       "Name: survived, dtype: int64"
      ]
     },
     "execution_count": 6,
     "metadata": {},
     "output_type": "execute_result"
    }
   ],
   "source": [
    "#find best base case\n",
    "train.survived.value_counts()"
   ]
  },
  {
   "cell_type": "code",
   "execution_count": 7,
   "metadata": {},
   "outputs": [],
   "source": [
    "#set base case to 0\n",
    "base_model = DummyClassifier(strategy='constant', constant=0)"
   ]
  },
  {
   "cell_type": "code",
   "execution_count": 8,
   "metadata": {},
   "outputs": [
    {
     "data": {
      "text/plain": [
       "DummyClassifier(constant=0, strategy='constant')"
      ]
     },
     "execution_count": 8,
     "metadata": {},
     "output_type": "execute_result"
    }
   ],
   "source": [
    "#fit our model\n",
    "base_model.fit(X_train, y_train)"
   ]
  },
  {
   "cell_type": "code",
   "execution_count": 9,
   "metadata": {},
   "outputs": [
    {
     "name": "stdout",
     "output_type": "stream",
     "text": [
      "Baseline accuracy: 61.771 %\n"
     ]
    }
   ],
   "source": [
    "baseline = base_model.score(X_train , y_train)\n",
    "print('Baseline accuracy: {:.3f} %'.format(baseline * 100))"
   ]
  },
  {
   "cell_type": "code",
   "execution_count": 10,
   "metadata": {},
   "outputs": [
    {
     "data": {
      "text/html": [
       "<div>\n",
       "<style scoped>\n",
       "    .dataframe tbody tr th:only-of-type {\n",
       "        vertical-align: middle;\n",
       "    }\n",
       "\n",
       "    .dataframe tbody tr th {\n",
       "        vertical-align: top;\n",
       "    }\n",
       "\n",
       "    .dataframe thead th {\n",
       "        text-align: right;\n",
       "    }\n",
       "</style>\n",
       "<table border=\"1\" class=\"dataframe\">\n",
       "  <thead>\n",
       "    <tr style=\"text-align: right;\">\n",
       "      <th></th>\n",
       "      <th>survived</th>\n",
       "      <th>pclass</th>\n",
       "      <th>age</th>\n",
       "      <th>sibsp</th>\n",
       "      <th>parch</th>\n",
       "      <th>fare</th>\n",
       "      <th>alone</th>\n",
       "      <th>Q</th>\n",
       "      <th>S</th>\n",
       "      <th>male</th>\n",
       "    </tr>\n",
       "  </thead>\n",
       "  <tbody>\n",
       "    <tr>\n",
       "      <th>495</th>\n",
       "      <td>0</td>\n",
       "      <td>3</td>\n",
       "      <td>29.916875</td>\n",
       "      <td>0</td>\n",
       "      <td>0</td>\n",
       "      <td>14.4583</td>\n",
       "      <td>1</td>\n",
       "      <td>0</td>\n",
       "      <td>0</td>\n",
       "      <td>1</td>\n",
       "    </tr>\n",
       "    <tr>\n",
       "      <th>77</th>\n",
       "      <td>0</td>\n",
       "      <td>3</td>\n",
       "      <td>29.916875</td>\n",
       "      <td>0</td>\n",
       "      <td>0</td>\n",
       "      <td>8.0500</td>\n",
       "      <td>1</td>\n",
       "      <td>0</td>\n",
       "      <td>1</td>\n",
       "      <td>1</td>\n",
       "    </tr>\n",
       "    <tr>\n",
       "      <th>189</th>\n",
       "      <td>0</td>\n",
       "      <td>3</td>\n",
       "      <td>36.000000</td>\n",
       "      <td>0</td>\n",
       "      <td>0</td>\n",
       "      <td>7.8958</td>\n",
       "      <td>1</td>\n",
       "      <td>0</td>\n",
       "      <td>1</td>\n",
       "      <td>1</td>\n",
       "    </tr>\n",
       "    <tr>\n",
       "      <th>155</th>\n",
       "      <td>0</td>\n",
       "      <td>1</td>\n",
       "      <td>51.000000</td>\n",
       "      <td>0</td>\n",
       "      <td>1</td>\n",
       "      <td>61.3792</td>\n",
       "      <td>0</td>\n",
       "      <td>0</td>\n",
       "      <td>0</td>\n",
       "      <td>1</td>\n",
       "    </tr>\n",
       "    <tr>\n",
       "      <th>658</th>\n",
       "      <td>0</td>\n",
       "      <td>2</td>\n",
       "      <td>23.000000</td>\n",
       "      <td>0</td>\n",
       "      <td>0</td>\n",
       "      <td>13.0000</td>\n",
       "      <td>1</td>\n",
       "      <td>0</td>\n",
       "      <td>1</td>\n",
       "      <td>1</td>\n",
       "    </tr>\n",
       "    <tr>\n",
       "      <th>706</th>\n",
       "      <td>1</td>\n",
       "      <td>2</td>\n",
       "      <td>45.000000</td>\n",
       "      <td>0</td>\n",
       "      <td>0</td>\n",
       "      <td>13.5000</td>\n",
       "      <td>1</td>\n",
       "      <td>0</td>\n",
       "      <td>1</td>\n",
       "      <td>0</td>\n",
       "    </tr>\n",
       "    <tr>\n",
       "      <th>65</th>\n",
       "      <td>1</td>\n",
       "      <td>3</td>\n",
       "      <td>29.916875</td>\n",
       "      <td>1</td>\n",
       "      <td>1</td>\n",
       "      <td>15.2458</td>\n",
       "      <td>0</td>\n",
       "      <td>0</td>\n",
       "      <td>0</td>\n",
       "      <td>1</td>\n",
       "    </tr>\n",
       "    <tr>\n",
       "      <th>145</th>\n",
       "      <td>0</td>\n",
       "      <td>2</td>\n",
       "      <td>19.000000</td>\n",
       "      <td>1</td>\n",
       "      <td>1</td>\n",
       "      <td>36.7500</td>\n",
       "      <td>0</td>\n",
       "      <td>0</td>\n",
       "      <td>1</td>\n",
       "      <td>1</td>\n",
       "    </tr>\n",
       "    <tr>\n",
       "      <th>584</th>\n",
       "      <td>0</td>\n",
       "      <td>3</td>\n",
       "      <td>29.916875</td>\n",
       "      <td>0</td>\n",
       "      <td>0</td>\n",
       "      <td>8.7125</td>\n",
       "      <td>1</td>\n",
       "      <td>0</td>\n",
       "      <td>0</td>\n",
       "      <td>1</td>\n",
       "    </tr>\n",
       "    <tr>\n",
       "      <th>507</th>\n",
       "      <td>1</td>\n",
       "      <td>1</td>\n",
       "      <td>29.916875</td>\n",
       "      <td>0</td>\n",
       "      <td>0</td>\n",
       "      <td>26.5500</td>\n",
       "      <td>1</td>\n",
       "      <td>0</td>\n",
       "      <td>1</td>\n",
       "      <td>1</td>\n",
       "    </tr>\n",
       "    <tr>\n",
       "      <th>393</th>\n",
       "      <td>1</td>\n",
       "      <td>1</td>\n",
       "      <td>23.000000</td>\n",
       "      <td>1</td>\n",
       "      <td>0</td>\n",
       "      <td>113.2750</td>\n",
       "      <td>0</td>\n",
       "      <td>0</td>\n",
       "      <td>0</td>\n",
       "      <td>0</td>\n",
       "    </tr>\n",
       "    <tr>\n",
       "      <th>633</th>\n",
       "      <td>0</td>\n",
       "      <td>1</td>\n",
       "      <td>29.916875</td>\n",
       "      <td>0</td>\n",
       "      <td>0</td>\n",
       "      <td>0.0000</td>\n",
       "      <td>1</td>\n",
       "      <td>0</td>\n",
       "      <td>1</td>\n",
       "      <td>1</td>\n",
       "    </tr>\n",
       "    <tr>\n",
       "      <th>846</th>\n",
       "      <td>0</td>\n",
       "      <td>3</td>\n",
       "      <td>29.916875</td>\n",
       "      <td>8</td>\n",
       "      <td>2</td>\n",
       "      <td>69.5500</td>\n",
       "      <td>0</td>\n",
       "      <td>0</td>\n",
       "      <td>1</td>\n",
       "      <td>1</td>\n",
       "    </tr>\n",
       "    <tr>\n",
       "      <th>461</th>\n",
       "      <td>0</td>\n",
       "      <td>3</td>\n",
       "      <td>34.000000</td>\n",
       "      <td>0</td>\n",
       "      <td>0</td>\n",
       "      <td>8.0500</td>\n",
       "      <td>1</td>\n",
       "      <td>0</td>\n",
       "      <td>1</td>\n",
       "      <td>1</td>\n",
       "    </tr>\n",
       "    <tr>\n",
       "      <th>246</th>\n",
       "      <td>0</td>\n",
       "      <td>3</td>\n",
       "      <td>25.000000</td>\n",
       "      <td>0</td>\n",
       "      <td>0</td>\n",
       "      <td>7.7750</td>\n",
       "      <td>1</td>\n",
       "      <td>0</td>\n",
       "      <td>1</td>\n",
       "      <td>0</td>\n",
       "    </tr>\n",
       "    <tr>\n",
       "      <th>670</th>\n",
       "      <td>1</td>\n",
       "      <td>2</td>\n",
       "      <td>40.000000</td>\n",
       "      <td>1</td>\n",
       "      <td>1</td>\n",
       "      <td>39.0000</td>\n",
       "      <td>0</td>\n",
       "      <td>0</td>\n",
       "      <td>1</td>\n",
       "      <td>0</td>\n",
       "    </tr>\n",
       "    <tr>\n",
       "      <th>595</th>\n",
       "      <td>0</td>\n",
       "      <td>3</td>\n",
       "      <td>36.000000</td>\n",
       "      <td>1</td>\n",
       "      <td>1</td>\n",
       "      <td>24.1500</td>\n",
       "      <td>0</td>\n",
       "      <td>0</td>\n",
       "      <td>1</td>\n",
       "      <td>1</td>\n",
       "    </tr>\n",
       "    <tr>\n",
       "      <th>146</th>\n",
       "      <td>1</td>\n",
       "      <td>3</td>\n",
       "      <td>27.000000</td>\n",
       "      <td>0</td>\n",
       "      <td>0</td>\n",
       "      <td>7.7958</td>\n",
       "      <td>1</td>\n",
       "      <td>0</td>\n",
       "      <td>1</td>\n",
       "      <td>1</td>\n",
       "    </tr>\n",
       "    <tr>\n",
       "      <th>423</th>\n",
       "      <td>0</td>\n",
       "      <td>3</td>\n",
       "      <td>28.000000</td>\n",
       "      <td>1</td>\n",
       "      <td>1</td>\n",
       "      <td>14.4000</td>\n",
       "      <td>0</td>\n",
       "      <td>0</td>\n",
       "      <td>1</td>\n",
       "      <td>0</td>\n",
       "    </tr>\n",
       "    <tr>\n",
       "      <th>315</th>\n",
       "      <td>1</td>\n",
       "      <td>3</td>\n",
       "      <td>26.000000</td>\n",
       "      <td>0</td>\n",
       "      <td>0</td>\n",
       "      <td>7.8542</td>\n",
       "      <td>1</td>\n",
       "      <td>0</td>\n",
       "      <td>1</td>\n",
       "      <td>0</td>\n",
       "    </tr>\n",
       "    <tr>\n",
       "      <th>472</th>\n",
       "      <td>1</td>\n",
       "      <td>2</td>\n",
       "      <td>33.000000</td>\n",
       "      <td>1</td>\n",
       "      <td>2</td>\n",
       "      <td>27.7500</td>\n",
       "      <td>0</td>\n",
       "      <td>0</td>\n",
       "      <td>1</td>\n",
       "      <td>0</td>\n",
       "    </tr>\n",
       "    <tr>\n",
       "      <th>349</th>\n",
       "      <td>0</td>\n",
       "      <td>3</td>\n",
       "      <td>42.000000</td>\n",
       "      <td>0</td>\n",
       "      <td>0</td>\n",
       "      <td>8.6625</td>\n",
       "      <td>1</td>\n",
       "      <td>0</td>\n",
       "      <td>1</td>\n",
       "      <td>1</td>\n",
       "    </tr>\n",
       "    <tr>\n",
       "      <th>805</th>\n",
       "      <td>0</td>\n",
       "      <td>3</td>\n",
       "      <td>31.000000</td>\n",
       "      <td>0</td>\n",
       "      <td>0</td>\n",
       "      <td>7.7750</td>\n",
       "      <td>1</td>\n",
       "      <td>0</td>\n",
       "      <td>1</td>\n",
       "      <td>1</td>\n",
       "    </tr>\n",
       "    <tr>\n",
       "      <th>215</th>\n",
       "      <td>1</td>\n",
       "      <td>1</td>\n",
       "      <td>31.000000</td>\n",
       "      <td>1</td>\n",
       "      <td>0</td>\n",
       "      <td>113.2750</td>\n",
       "      <td>0</td>\n",
       "      <td>0</td>\n",
       "      <td>0</td>\n",
       "      <td>0</td>\n",
       "    </tr>\n",
       "    <tr>\n",
       "      <th>680</th>\n",
       "      <td>0</td>\n",
       "      <td>3</td>\n",
       "      <td>29.916875</td>\n",
       "      <td>0</td>\n",
       "      <td>0</td>\n",
       "      <td>8.1375</td>\n",
       "      <td>1</td>\n",
       "      <td>1</td>\n",
       "      <td>0</td>\n",
       "      <td>0</td>\n",
       "    </tr>\n",
       "  </tbody>\n",
       "</table>\n",
       "</div>"
      ],
      "text/plain": [
       "     survived  pclass        age  sibsp  parch      fare  alone  Q  S  male\n",
       "495         0       3  29.916875      0      0   14.4583      1  0  0     1\n",
       "77          0       3  29.916875      0      0    8.0500      1  0  1     1\n",
       "189         0       3  36.000000      0      0    7.8958      1  0  1     1\n",
       "155         0       1  51.000000      0      1   61.3792      0  0  0     1\n",
       "658         0       2  23.000000      0      0   13.0000      1  0  1     1\n",
       "706         1       2  45.000000      0      0   13.5000      1  0  1     0\n",
       "65          1       3  29.916875      1      1   15.2458      0  0  0     1\n",
       "145         0       2  19.000000      1      1   36.7500      0  0  1     1\n",
       "584         0       3  29.916875      0      0    8.7125      1  0  0     1\n",
       "507         1       1  29.916875      0      0   26.5500      1  0  1     1\n",
       "393         1       1  23.000000      1      0  113.2750      0  0  0     0\n",
       "633         0       1  29.916875      0      0    0.0000      1  0  1     1\n",
       "846         0       3  29.916875      8      2   69.5500      0  0  1     1\n",
       "461         0       3  34.000000      0      0    8.0500      1  0  1     1\n",
       "246         0       3  25.000000      0      0    7.7750      1  0  1     0\n",
       "670         1       2  40.000000      1      1   39.0000      0  0  1     0\n",
       "595         0       3  36.000000      1      1   24.1500      0  0  1     1\n",
       "146         1       3  27.000000      0      0    7.7958      1  0  1     1\n",
       "423         0       3  28.000000      1      1   14.4000      0  0  1     0\n",
       "315         1       3  26.000000      0      0    7.8542      1  0  1     0\n",
       "472         1       2  33.000000      1      2   27.7500      0  0  1     0\n",
       "349         0       3  42.000000      0      0    8.6625      1  0  1     1\n",
       "805         0       3  31.000000      0      0    7.7750      1  0  1     1\n",
       "215         1       1  31.000000      1      0  113.2750      0  0  0     0\n",
       "680         0       3  29.916875      0      0    8.1375      1  1  0     0"
      ]
     },
     "execution_count": 10,
     "metadata": {},
     "output_type": "execute_result"
    }
   ],
   "source": [
    "#2 Fit the decision tree classifier to your \n",
    "#training sample and transform (i.e. make predictions on the training sample)\n",
    "train.sample(25)"
   ]
  },
  {
   "cell_type": "code",
   "execution_count": 11,
   "metadata": {},
   "outputs": [],
   "source": [
    "#create our trees\n",
    "clf_1 = DecisionTreeClassifier(max_depth=4)\n",
    "clf_2 = DecisionTreeClassifier(max_depth=2, random_state=123)\n",
    "clf_3 = DecisionTreeClassifier(max_depth=5, random_state=980)"
   ]
  },
  {
   "cell_type": "code",
   "execution_count": 12,
   "metadata": {},
   "outputs": [
    {
     "data": {
      "text/plain": [
       "DecisionTreeClassifier(max_depth=5, random_state=980)"
      ]
     },
     "execution_count": 12,
     "metadata": {},
     "output_type": "execute_result"
    }
   ],
   "source": [
    "#train our trees\n",
    "clf_1.fit(X_train, y_train)\n",
    "clf_2.fit(X_train, y_train)\n",
    "clf_3.fit(X_train, y_train)"
   ]
  },
  {
   "cell_type": "code",
   "execution_count": null,
   "metadata": {},
   "outputs": [],
   "source": []
  },
  {
   "cell_type": "code",
   "execution_count": 13,
   "metadata": {},
   "outputs": [],
   "source": [
    "#visualise data"
   ]
  },
  {
   "cell_type": "code",
   "execution_count": 14,
   "metadata": {},
   "outputs": [
    {
     "data": {
      "text/plain": [
       "'titanic_tree_Model_3.pdf'"
      ]
     },
     "execution_count": 14,
     "metadata": {},
     "output_type": "execute_result"
    }
   ],
   "source": [
    "dot_data_1 = export_graphviz(clf_1, feature_names= X_train.columns ,rounded=True, filled=True)\n",
    "dot_data_2 = export_graphviz(clf_2, feature_names= X_train.columns ,rounded=True, filled=True)\n",
    "dot_data_3 = export_graphviz(clf_3, feature_names= X_train.columns ,rounded=True, filled=True)\n",
    "graph_1 = graphviz.Source(dot_data_1)\n",
    "graph_2 = graphviz.Source(dot_data_2)\n",
    "graph_3 = graphviz.Source(dot_data_3)\n",
    "graph_1.render('titanic_tree_Model_1', view=True)\n",
    "graph_2.render('titanic_tree_Model_2', view=True)\n",
    "graph_3.render('titanic_tree_Model_3', view=True)"
   ]
  },
  {
   "cell_type": "code",
   "execution_count": 15,
   "metadata": {},
   "outputs": [
    {
     "name": "stdout",
     "output_type": "stream",
     "text": [
      "Model 1 accuracy: 83.501 % | Model 1 accuracy on validate: 78.505 %\n",
      "Model 2 accuracy: 79.074 % | Model 2 accuracy on validate: 78.037 %\n",
      "Model 3 accuracy: 85.714 % | Model 3 accuracy on validate: 79.439 %\n"
     ]
    }
   ],
   "source": [
    "model_1_score = clf_1.score(X_train,y_train)\n",
    "model_2_score = clf_2.score(X_train,y_train)\n",
    "model_3_score = clf_3.score(X_train,y_train)\n",
    "\n",
    "validate_model_1 = clf_1.score(X_validate,y_validate)\n",
    "validate_model_2 = clf_2.score(X_validate,y_validate)\n",
    "validate_model_3 = clf_3.score(X_validate,y_validate)\n",
    "\n",
    "print('Model 1 accuracy: {:.3f} % | Model 1 accuracy on validate: {:.3f} %'.format(model_1_score * 100 ,validate_model_1 * 100))\n",
    "print('Model 2 accuracy: {:.3f} % | Model 2 accuracy on validate: {:.3f} %'.format(model_2_score * 100 ,validate_model_2 * 100))\n",
    "print('Model 3 accuracy: {:.3f} % | Model 3 accuracy on validate: {:.3f} %'.format(model_3_score * 100 ,validate_model_3 * 100))"
   ]
  },
  {
   "cell_type": "code",
   "execution_count": 16,
   "metadata": {},
   "outputs": [],
   "source": [
    "#in terms of training, accuracy, model 3 is the most accurate but has overfitting.\n",
    "#model 2 preformed reletivly the same for the train and validate. use model 2"
   ]
  },
  {
   "cell_type": "code",
   "execution_count": 17,
   "metadata": {},
   "outputs": [],
   "source": [
    "#compare validate to actual classification report for models\n",
    "y_pred_1 = clf_1.predict(X_validate)\n",
    "y_pred_2 = clf_2.predict(X_validate)\n",
    "y_pred_3 = clf_3.predict(X_validate)\n",
    "report_1 = classification_report(y_validate, y_pred_1,output_dict=True)\n",
    "report_2 = classification_report(y_validate, y_pred_2,output_dict=True)\n",
    "report_3 = classification_report(y_validate, y_pred_3,output_dict=True)"
   ]
  },
  {
   "cell_type": "code",
   "execution_count": 18,
   "metadata": {},
   "outputs": [],
   "source": [
    "df_1, df_2 , df_3 = pd.DataFrame(report_1).transpose(), pd.DataFrame(report_2).transpose(), pd.DataFrame(report_3).transpose()"
   ]
  },
  {
   "cell_type": "code",
   "execution_count": 19,
   "metadata": {},
   "outputs": [
    {
     "data": {
      "text/plain": [
       "(              precision    recall  f1-score     support\n",
       " 0              0.762195  0.946970  0.844595  132.000000\n",
       " 1              0.860000  0.524390  0.651515   82.000000\n",
       " accuracy       0.785047  0.785047  0.785047    0.785047\n",
       " macro avg      0.811098  0.735680  0.748055  214.000000\n",
       " weighted avg   0.799672  0.785047  0.770611  214.000000,\n",
       "               precision    recall  f1-score     support\n",
       " 0              0.748538  0.969697  0.844884  132.000000\n",
       " 1              0.906977  0.475610  0.624000   82.000000\n",
       " accuracy       0.780374  0.780374  0.780374    0.780374\n",
       " macro avg      0.827757  0.722653  0.734442  214.000000\n",
       " weighted avg   0.809248  0.780374  0.760247  214.000000,\n",
       "               precision    recall  f1-score     support\n",
       " 0              0.805556  0.878788  0.840580  132.000000\n",
       " 1              0.771429  0.658537  0.710526   82.000000\n",
       " accuracy       0.794393  0.794393  0.794393    0.794393\n",
       " macro avg      0.788492  0.768662  0.775553  214.000000\n",
       " weighted avg   0.792479  0.794393  0.790746  214.000000)"
      ]
     },
     "execution_count": 19,
     "metadata": {},
     "output_type": "execute_result"
    }
   ],
   "source": [
    "df_1, df_2, df_3"
   ]
  },
  {
   "cell_type": "code",
   "execution_count": 20,
   "metadata": {},
   "outputs": [],
   "source": [
    "#compare train to actual classification report for models\n",
    "y_pred_1 = clf_1.predict(X_train)\n",
    "y_pred_2 = clf_2.predict(X_train)\n",
    "y_pred_3 = clf_3.predict(X_train)\n",
    "report_1 = classification_report(y_train, y_pred_1,output_dict=True)\n",
    "report_2 = classification_report(y_train, y_pred_2,output_dict=True)\n",
    "report_3 = classification_report(y_train, y_pred_3,output_dict=True)\n",
    "df_1, df_2 , df_3 = pd.DataFrame(report_1).transpose(), pd.DataFrame(report_2).transpose(), pd.DataFrame(report_3).transpose()"
   ]
  },
  {
   "cell_type": "code",
   "execution_count": 21,
   "metadata": {},
   "outputs": [
    {
     "data": {
      "text/plain": [
       "(              precision    recall  f1-score    support\n",
       " 0              0.798408  0.980456  0.880117  307.00000\n",
       " 1              0.950000  0.600000  0.735484  190.00000\n",
       " accuracy       0.835010  0.835010  0.835010    0.83501\n",
       " macro avg      0.874204  0.790228  0.807800  497.00000\n",
       " weighted avg   0.856361  0.835010  0.824825  497.00000,\n",
       "               precision    recall  f1-score     support\n",
       " 0              0.751861  0.986971  0.853521  307.000000\n",
       " 1              0.957447  0.473684  0.633803  190.000000\n",
       " accuracy       0.790744  0.790744  0.790744    0.790744\n",
       " macro avg      0.854654  0.730327  0.743662  497.000000\n",
       " weighted avg   0.830455  0.790744  0.769524  497.000000,\n",
       "               precision    recall  f1-score     support\n",
       " 0              0.853293  0.928339  0.889236  307.000000\n",
       " 1              0.865031  0.742105  0.798867  190.000000\n",
       " accuracy       0.857143  0.857143  0.857143    0.857143\n",
       " macro avg      0.859162  0.835222  0.844051  497.000000\n",
       " weighted avg   0.857780  0.857143  0.854688  497.000000)"
      ]
     },
     "execution_count": 21,
     "metadata": {},
     "output_type": "execute_result"
    }
   ],
   "source": [
    "df_1, df_2, df_3"
   ]
  },
  {
   "cell_type": "code",
   "execution_count": 22,
   "metadata": {},
   "outputs": [],
   "source": [
    "#confusion matrix for models for train\n",
    "labels = [\"Dead\", \"Survived\"]\n",
    "y_pred_1 = clf_1.predict(X_train)\n",
    "y_pred_2 = clf_2.predict(X_train)\n",
    "y_pred_3 = clf_3.predict(X_train)\n",
    "\n",
    "cm_1 = pd.DataFrame(confusion_matrix(y_train, y_pred_1),index=labels,columns=labels)\n",
    "cm_2 = pd.DataFrame(confusion_matrix(y_train, y_pred_2),index=labels,columns=labels)\n",
    "cm_3 = pd.DataFrame(confusion_matrix(y_train, y_pred_3),index=labels,columns=labels)"
   ]
  },
  {
   "cell_type": "code",
   "execution_count": 23,
   "metadata": {},
   "outputs": [
    {
     "data": {
      "text/plain": [
       "(          Dead  Survived\n",
       " Dead       301         6\n",
       " Survived    76       114,\n",
       "           Dead  Survived\n",
       " Dead       303         4\n",
       " Survived   100        90,\n",
       "           Dead  Survived\n",
       " Dead       285        22\n",
       " Survived    49       141)"
      ]
     },
     "execution_count": 23,
     "metadata": {},
     "output_type": "execute_result"
    }
   ],
   "source": [
    "cm_1, cm_2, cm_3"
   ]
  },
  {
   "cell_type": "code",
   "execution_count": null,
   "metadata": {},
   "outputs": [],
   "source": []
  },
  {
   "cell_type": "code",
   "execution_count": 24,
   "metadata": {},
   "outputs": [],
   "source": [
    "#confusion matrix for models for validate\n",
    "labels = [\"Dead\", \"Survived\"]\n",
    "y_pred_1 = clf_1.predict(X_validate)\n",
    "y_pred_2 = clf_2.predict(X_validate)\n",
    "y_pred_3 = clf_3.predict(X_validate)\n",
    "\n",
    "cm_1 = pd.DataFrame(confusion_matrix(y_validate, y_pred_1),index=labels,columns=labels)\n",
    "cm_2 = pd.DataFrame(confusion_matrix(y_validate, y_pred_2),index=labels,columns=labels)\n",
    "cm_3 = pd.DataFrame(confusion_matrix(y_validate, y_pred_3),index=labels,columns=labels)"
   ]
  },
  {
   "cell_type": "code",
   "execution_count": 25,
   "metadata": {},
   "outputs": [
    {
     "data": {
      "text/plain": [
       "(          Dead  Survived\n",
       " Dead       125         7\n",
       " Survived    39        43,\n",
       "           Dead  Survived\n",
       " Dead       128         4\n",
       " Survived    43        39,\n",
       "           Dead  Survived\n",
       " Dead       116        16\n",
       " Survived    28        54)"
      ]
     },
     "execution_count": 25,
     "metadata": {},
     "output_type": "execute_result"
    }
   ],
   "source": [
    "cm_1, cm_2, cm_3"
   ]
  },
  {
   "cell_type": "markdown",
   "metadata": {},
   "source": [
    "### #6 Which model performs better on your in-sample data?\n",
    "#### for Positive = Dead\n",
    "\n",
    "- Best for accuracy: Model 3\n",
    "- Best for Recall : Model 2\n",
    "- Best for Precision: Model  3\n"
   ]
  },
  {
   "cell_type": "markdown",
   "metadata": {},
   "source": [
    "### #7 Which model performs better on your out-sample data?\n",
    "#### for Positive = Dead\n",
    "\n",
    "- Best for accuracy: Model 3\n",
    "- Best for Recall : Model 2\n",
    "- Best for Precision: Model  3\n",
    "\n"
   ]
  },
  {
   "cell_type": "code",
   "execution_count": 26,
   "metadata": {},
   "outputs": [],
   "source": [
    "########################## RANDOM FOREST ##############################################\n"
   ]
  },
  {
   "cell_type": "code",
   "execution_count": 27,
   "metadata": {},
   "outputs": [],
   "source": [
    "#1 Fit the Random Forest classifier to your training sample and transform \n",
    "#(i.e. make predictions on the training sample) setting the random_state accordingly \n",
    "# and setting min_samples_leaf = 1 and max_depth = 10.\n",
    "\n",
    "\n",
    "rf_1 = RandomForestClassifier(max_depth= 10, min_samples_leaf=1)\n",
    "rf_2 = RandomForestClassifier(max_depth= 4, min_samples_leaf= 6)"
   ]
  },
  {
   "cell_type": "code",
   "execution_count": 28,
   "metadata": {},
   "outputs": [],
   "source": [
    "#evaluate your results using the model score, confusion matrix, and classification report.\n",
    "#train"
   ]
  },
  {
   "cell_type": "code",
   "execution_count": 29,
   "metadata": {},
   "outputs": [
    {
     "data": {
      "text/plain": [
       "RandomForestClassifier(max_depth=4, min_samples_leaf=6)"
      ]
     },
     "execution_count": 29,
     "metadata": {},
     "output_type": "execute_result"
    }
   ],
   "source": [
    "rf_1.fit(X_train,y_train)\n",
    "rf_2.fit(X_train,y_train)"
   ]
  },
  {
   "cell_type": "code",
   "execution_count": 30,
   "metadata": {},
   "outputs": [
    {
     "name": "stdout",
     "output_type": "stream",
     "text": [
      "Model 1 accuracy: 96.579 % | Model 1 accuracy on validate: 78.505 %\n",
      "Model 2 accuracy: 84.708 % | Model 2 accuracy on validate: 78.037 %\n"
     ]
    }
   ],
   "source": [
    "rf_1_score = rf_1.score(X_train,y_train)\n",
    "rf_2_score = rf_2.score(X_train,y_train)\n",
    "\n",
    "validate_rf_1 = clf_1.score(X_validate,y_validate)\n",
    "validate_rf_2 = clf_2.score(X_validate,y_validate)\n",
    "\n",
    "print('Model 1 accuracy: {:.3f} % | Model 1 accuracy on validate: {:.3f} %'.format(rf_1_score * 100 ,validate_rf_1 * 100))\n",
    "print('Model 2 accuracy: {:.3f} % | Model 2 accuracy on validate: {:.3f} %'.format(rf_2_score * 100 ,validate_rf_2 * 100))"
   ]
  },
  {
   "cell_type": "code",
   "execution_count": 31,
   "metadata": {},
   "outputs": [],
   "source": [
    "#confusion matrices for train vs validate\n",
    "labels = [\"Dead\", \"Survived\"]\n",
    "y_pred_1 = rf_1.predict(X_train)\n",
    "y_pred_2 = rf_2.predict(X_train)\n",
    "\n",
    "v_pred_1 = rf_1.predict(X_validate)\n",
    "v_pred_2 = rf_2.predict(X_validate)\n",
    "\n",
    "\n",
    "\n",
    "rm_1 = pd.DataFrame(confusion_matrix(y_train, y_pred_1),index=labels,columns=labels)\n",
    "rm_2 = pd.DataFrame(confusion_matrix(y_train, y_pred_2),index=labels,columns=labels)\n",
    "\n",
    "rmv_1 = pd.DataFrame(confusion_matrix(y_validate, v_pred_1),index=labels,columns=labels)\n",
    "rmv_2 = pd.DataFrame(confusion_matrix(y_validate, v_pred_2),index=labels,columns=labels)"
   ]
  },
  {
   "cell_type": "code",
   "execution_count": 32,
   "metadata": {},
   "outputs": [
    {
     "data": {
      "text/plain": [
       "(          Dead  Survived\n",
       " Dead       307         0\n",
       " Survived    17       173,\n",
       "           Dead  Survived\n",
       " Dead       292        15\n",
       " Survived    61       129)"
      ]
     },
     "execution_count": 32,
     "metadata": {},
     "output_type": "execute_result"
    }
   ],
   "source": [
    "rm_1, rm_2"
   ]
  },
  {
   "cell_type": "code",
   "execution_count": 33,
   "metadata": {},
   "outputs": [
    {
     "data": {
      "text/plain": [
       "(          Dead  Survived\n",
       " Dead       118        14\n",
       " Survived    21        61,\n",
       "           Dead  Survived\n",
       " Dead       122        10\n",
       " Survived    30        52)"
      ]
     },
     "execution_count": 33,
     "metadata": {},
     "output_type": "execute_result"
    }
   ],
   "source": [
    "rmv_1, rmv_2"
   ]
  },
  {
   "cell_type": "code",
   "execution_count": 34,
   "metadata": {},
   "outputs": [],
   "source": [
    "#Classification reports for train vs validate\n",
    "x_pred_1 = rf_1.predict(X_train)\n",
    "x_pred_2 = rf_2.predict(X_train)\n",
    "\n",
    "v_pred_1 = rf_1.predict(X_validate)\n",
    "v_pred_2 = rf_2.predict(X_validate)\n",
    "\n",
    "report_1 = classification_report(y_train, x_pred_1,output_dict=True)\n",
    "report_2 = classification_report(y_train, x_pred_2,output_dict=True)\n",
    "\n",
    "vreport_1 = classification_report(y_validate, v_pred_1,output_dict=True)\n",
    "vreport_2 = classification_report(y_validate, v_pred_2,output_dict=True)\n",
    "\n",
    "df_1, df_2 = pd.DataFrame(report_1).transpose(), pd.DataFrame(report_2).transpose()\n",
    "\n",
    "dfv_1, dfv_2 = pd.DataFrame(vreport_1).transpose(), pd.DataFrame(vreport_2).transpose()"
   ]
  },
  {
   "cell_type": "code",
   "execution_count": 35,
   "metadata": {},
   "outputs": [
    {
     "data": {
      "text/plain": [
       "(              precision    recall  f1-score     support\n",
       " 0              0.947531  1.000000  0.973059  307.000000\n",
       " 1              1.000000  0.910526  0.953168  190.000000\n",
       " accuracy       0.965795  0.965795  0.965795    0.965795\n",
       " macro avg      0.973765  0.955263  0.963113  497.000000\n",
       " weighted avg   0.967589  0.965795  0.965455  497.000000,\n",
       "               precision    recall  f1-score     support\n",
       " 0              0.827195  0.951140  0.884848  307.000000\n",
       " 1              0.895833  0.678947  0.772455  190.000000\n",
       " accuracy       0.847082  0.847082  0.847082    0.847082\n",
       " macro avg      0.861514  0.815044  0.828652  497.000000\n",
       " weighted avg   0.853435  0.847082  0.841881  497.000000)"
      ]
     },
     "execution_count": 35,
     "metadata": {},
     "output_type": "execute_result"
    }
   ],
   "source": [
    "df_1, df_2"
   ]
  },
  {
   "cell_type": "code",
   "execution_count": 36,
   "metadata": {},
   "outputs": [
    {
     "data": {
      "text/plain": [
       "(              precision    recall  f1-score     support\n",
       " 0              0.848921  0.893939  0.870849  132.000000\n",
       " 1              0.813333  0.743902  0.777070   82.000000\n",
       " accuracy       0.836449  0.836449  0.836449    0.836449\n",
       " macro avg      0.831127  0.818921  0.823959  214.000000\n",
       " weighted avg   0.835285  0.836449  0.834915  214.000000,\n",
       "               precision    recall  f1-score     support\n",
       " 0              0.802632  0.924242  0.859155  132.000000\n",
       " 1              0.838710  0.634146  0.722222   82.000000\n",
       " accuracy       0.813084  0.813084  0.813084    0.813084\n",
       " macro avg      0.820671  0.779194  0.790689  214.000000\n",
       " weighted avg   0.816456  0.813084  0.806685  214.000000)"
      ]
     },
     "execution_count": 36,
     "metadata": {},
     "output_type": "execute_result"
    }
   ],
   "source": [
    "dfv_1, dfv_2"
   ]
  },
  {
   "cell_type": "code",
   "execution_count": 37,
   "metadata": {},
   "outputs": [],
   "source": [
    "#model 2 has a closer metric on both validate and train \n",
    "#but model 1 accuracy on train was vastly greater in percent compared to model 2"
   ]
  },
  {
   "cell_type": "code",
   "execution_count": 38,
   "metadata": {},
   "outputs": [],
   "source": [
    "######################### K- NEAREST NEIGHBOR #####################################|"
   ]
  },
  {
   "cell_type": "code",
   "execution_count": 39,
   "metadata": {},
   "outputs": [],
   "source": [
    "#1.Fit a K-Nearest Neighbors classifier to your training sample and transform \n",
    "#(i.e. make predictions on the training sample)\n",
    "t_scores=[]\n",
    "v_scores=[]\n",
    "for i in range(1,21):\n",
    "    knn = KNeighborsClassifier(n_neighbors= i)\n",
    "    knn.fit(X_train, y_train)\n",
    "    t_scores.append({'k-value for Train':i, 'Train accuracy': '{:.2f} %'.format(knn.score(X_train,y_train) * 100)})\n",
    "    v_scores.append({'k-value for Validate':i, 'Validate accuracy' : '{:2f}%'.format(knn.score(X_validate,y_validate) * 100)})\n",
    "    \n",
    "    "
   ]
  },
  {
   "cell_type": "code",
   "execution_count": 40,
   "metadata": {},
   "outputs": [
    {
     "data": {
      "text/plain": [
       "[{'k-value for Train': 1, 'Train accuracy': '98.79 %'},\n",
       " {'k-value for Train': 2, 'Train accuracy': '83.10 %'},\n",
       " {'k-value for Train': 3, 'Train accuracy': '84.71 %'},\n",
       " {'k-value for Train': 4, 'Train accuracy': '79.28 %'},\n",
       " {'k-value for Train': 5, 'Train accuracy': '77.46 %'},\n",
       " {'k-value for Train': 6, 'Train accuracy': '76.66 %'},\n",
       " {'k-value for Train': 7, 'Train accuracy': '76.46 %'},\n",
       " {'k-value for Train': 8, 'Train accuracy': '74.65 %'},\n",
       " {'k-value for Train': 9, 'Train accuracy': '75.86 %'},\n",
       " {'k-value for Train': 10, 'Train accuracy': '76.06 %'},\n",
       " {'k-value for Train': 11, 'Train accuracy': '76.26 %'},\n",
       " {'k-value for Train': 12, 'Train accuracy': '75.45 %'},\n",
       " {'k-value for Train': 13, 'Train accuracy': '75.25 %'},\n",
       " {'k-value for Train': 14, 'Train accuracy': '72.23 %'},\n",
       " {'k-value for Train': 15, 'Train accuracy': '73.04 %'},\n",
       " {'k-value for Train': 16, 'Train accuracy': '72.43 %'},\n",
       " {'k-value for Train': 17, 'Train accuracy': '73.64 %'},\n",
       " {'k-value for Train': 18, 'Train accuracy': '72.03 %'},\n",
       " {'k-value for Train': 19, 'Train accuracy': '72.64 %'},\n",
       " {'k-value for Train': 20, 'Train accuracy': '71.83 %'}]"
      ]
     },
     "execution_count": 40,
     "metadata": {},
     "output_type": "execute_result"
    }
   ],
   "source": [
    "t_scores"
   ]
  },
  {
   "cell_type": "code",
   "execution_count": 41,
   "metadata": {},
   "outputs": [
    {
     "data": {
      "text/plain": [
       "[{'k-value for Validate': 1, 'Validate accuracy': '71.495327%'},\n",
       " {'k-value for Validate': 2, 'Validate accuracy': '67.289720%'},\n",
       " {'k-value for Validate': 3, 'Validate accuracy': '72.897196%'},\n",
       " {'k-value for Validate': 4, 'Validate accuracy': '68.224299%'},\n",
       " {'k-value for Validate': 5, 'Validate accuracy': '73.831776%'},\n",
       " {'k-value for Validate': 6, 'Validate accuracy': '70.560748%'},\n",
       " {'k-value for Validate': 7, 'Validate accuracy': '71.495327%'},\n",
       " {'k-value for Validate': 8, 'Validate accuracy': '71.028037%'},\n",
       " {'k-value for Validate': 9, 'Validate accuracy': '73.831776%'},\n",
       " {'k-value for Validate': 10, 'Validate accuracy': '68.691589%'},\n",
       " {'k-value for Validate': 11, 'Validate accuracy': '71.962617%'},\n",
       " {'k-value for Validate': 12, 'Validate accuracy': '71.495327%'},\n",
       " {'k-value for Validate': 13, 'Validate accuracy': '74.766355%'},\n",
       " {'k-value for Validate': 14, 'Validate accuracy': '71.962617%'},\n",
       " {'k-value for Validate': 15, 'Validate accuracy': '72.429907%'},\n",
       " {'k-value for Validate': 16, 'Validate accuracy': '73.364486%'},\n",
       " {'k-value for Validate': 17, 'Validate accuracy': '71.962617%'},\n",
       " {'k-value for Validate': 18, 'Validate accuracy': '69.626168%'},\n",
       " {'k-value for Validate': 19, 'Validate accuracy': '68.691589%'},\n",
       " {'k-value for Validate': 20, 'Validate accuracy': '70.093458%'}]"
      ]
     },
     "execution_count": 41,
     "metadata": {},
     "output_type": "execute_result"
    }
   ],
   "source": [
    "v_scores"
   ]
  },
  {
   "cell_type": "code",
   "execution_count": 42,
   "metadata": {},
   "outputs": [
    {
     "data": {
      "text/plain": [
       "KNeighborsClassifier()"
      ]
     },
     "execution_count": 42,
     "metadata": {},
     "output_type": "execute_result"
    }
   ],
   "source": [
    "###Confusion matrix for validate when n = 5, our best accuracy with smallest n \n",
    "knn = KNeighborsClassifier(n_neighbors=5)\n",
    "knn.fit(X_train, y_train)"
   ]
  },
  {
   "cell_type": "code",
   "execution_count": 43,
   "metadata": {},
   "outputs": [],
   "source": [
    "knn_best = knn.predict(X_validate)\n",
    "knnm_best = pd.DataFrame(confusion_matrix(y_validate, knn_best),index=labels,columns=labels)\n",
    "labels = [\"Dead\", \"Survived\"]"
   ]
  },
  {
   "cell_type": "code",
   "execution_count": 44,
   "metadata": {},
   "outputs": [
    {
     "data": {
      "text/html": [
       "<div>\n",
       "<style scoped>\n",
       "    .dataframe tbody tr th:only-of-type {\n",
       "        vertical-align: middle;\n",
       "    }\n",
       "\n",
       "    .dataframe tbody tr th {\n",
       "        vertical-align: top;\n",
       "    }\n",
       "\n",
       "    .dataframe thead th {\n",
       "        text-align: right;\n",
       "    }\n",
       "</style>\n",
       "<table border=\"1\" class=\"dataframe\">\n",
       "  <thead>\n",
       "    <tr style=\"text-align: right;\">\n",
       "      <th></th>\n",
       "      <th>Dead</th>\n",
       "      <th>Survived</th>\n",
       "    </tr>\n",
       "  </thead>\n",
       "  <tbody>\n",
       "    <tr>\n",
       "      <th>Dead</th>\n",
       "      <td>106</td>\n",
       "      <td>26</td>\n",
       "    </tr>\n",
       "    <tr>\n",
       "      <th>Survived</th>\n",
       "      <td>30</td>\n",
       "      <td>52</td>\n",
       "    </tr>\n",
       "  </tbody>\n",
       "</table>\n",
       "</div>"
      ],
      "text/plain": [
       "          Dead  Survived\n",
       "Dead       106        26\n",
       "Survived    30        52"
      ]
     },
     "execution_count": 44,
     "metadata": {},
     "output_type": "execute_result"
    }
   ],
   "source": [
    "knnm_best"
   ]
  },
  {
   "cell_type": "code",
   "execution_count": 45,
   "metadata": {},
   "outputs": [],
   "source": [
    "TP , FP, FN , TN = confusion_matrix(y_validate, knn_best).ravel()"
   ]
  },
  {
   "cell_type": "code",
   "execution_count": 46,
   "metadata": {},
   "outputs": [],
   "source": [
    "accuracy = (TP+TN)/(TP + FP + FN+ TN)\n",
    "recall = TP/(TP+FN)\n",
    "precision = TP/(TP+FP)\n",
    "f1_score = 2 *(precision * recall)/(precision + recall)"
   ]
  },
  {
   "cell_type": "code",
   "execution_count": 47,
   "metadata": {},
   "outputs": [
    {
     "name": "stdout",
     "output_type": "stream",
     "text": [
      "Accuracy is 73.83\n",
      "Recall is 77.94\n",
      "Precision is 80.3\n",
      "f1_score is 79.1\n"
     ]
    }
   ],
   "source": [
    "print('Accuracy is {:.4}'.format(accuracy * 100))\n",
    "print('Recall is {:.4}'.format(recall * 100) )\n",
    "print('Precision is {:.4}'.format(precision *100))\n",
    "print('f1_score is {:.4}'.format(f1_score * 100))"
   ]
  },
  {
   "cell_type": "code",
   "execution_count": 48,
   "metadata": {},
   "outputs": [
    {
     "data": {
      "text/plain": [
       "KNeighborsClassifier(n_neighbors=20)"
      ]
     },
     "execution_count": 48,
     "metadata": {},
     "output_type": "execute_result"
    }
   ],
   "source": [
    "#Run through steps 2-4 setting k to 10\n",
    "knn_10 = KNeighborsClassifier(n_neighbors=10)\n",
    "knn_10.fit(X_train, y_train)\n",
    "\n",
    "#Run through setps 2-4 setting k to 20\n",
    "knn_20 = KNeighborsClassifier(n_neighbors=20)\n",
    "knn_20.fit(X_train, y_train)\n",
    "\n"
   ]
  },
  {
   "cell_type": "code",
   "execution_count": 49,
   "metadata": {},
   "outputs": [],
   "source": [
    "pred_10 = knn_10.predict(X_validate)\n",
    "knnm_10 = pd.DataFrame(confusion_matrix(y_validate, pred_10),index=labels,columns=labels)\n",
    "\n",
    "pred_20 = knn_20.predict(X_validate)\n",
    "knnm_20 = pd.DataFrame(confusion_matrix(y_validate, pred_20),index=labels,columns=labels)"
   ]
  },
  {
   "cell_type": "code",
   "execution_count": 50,
   "metadata": {},
   "outputs": [
    {
     "data": {
      "text/html": [
       "<div>\n",
       "<style scoped>\n",
       "    .dataframe tbody tr th:only-of-type {\n",
       "        vertical-align: middle;\n",
       "    }\n",
       "\n",
       "    .dataframe tbody tr th {\n",
       "        vertical-align: top;\n",
       "    }\n",
       "\n",
       "    .dataframe thead th {\n",
       "        text-align: right;\n",
       "    }\n",
       "</style>\n",
       "<table border=\"1\" class=\"dataframe\">\n",
       "  <thead>\n",
       "    <tr style=\"text-align: right;\">\n",
       "      <th></th>\n",
       "      <th>Dead</th>\n",
       "      <th>Survived</th>\n",
       "    </tr>\n",
       "  </thead>\n",
       "  <tbody>\n",
       "    <tr>\n",
       "      <th>Dead</th>\n",
       "      <td>111</td>\n",
       "      <td>21</td>\n",
       "    </tr>\n",
       "    <tr>\n",
       "      <th>Survived</th>\n",
       "      <td>46</td>\n",
       "      <td>36</td>\n",
       "    </tr>\n",
       "  </tbody>\n",
       "</table>\n",
       "</div>"
      ],
      "text/plain": [
       "          Dead  Survived\n",
       "Dead       111        21\n",
       "Survived    46        36"
      ]
     },
     "execution_count": 50,
     "metadata": {},
     "output_type": "execute_result"
    }
   ],
   "source": [
    "knnm_10"
   ]
  },
  {
   "cell_type": "code",
   "execution_count": 51,
   "metadata": {},
   "outputs": [
    {
     "data": {
      "text/html": [
       "<div>\n",
       "<style scoped>\n",
       "    .dataframe tbody tr th:only-of-type {\n",
       "        vertical-align: middle;\n",
       "    }\n",
       "\n",
       "    .dataframe tbody tr th {\n",
       "        vertical-align: top;\n",
       "    }\n",
       "\n",
       "    .dataframe thead th {\n",
       "        text-align: right;\n",
       "    }\n",
       "</style>\n",
       "<table border=\"1\" class=\"dataframe\">\n",
       "  <thead>\n",
       "    <tr style=\"text-align: right;\">\n",
       "      <th></th>\n",
       "      <th>Dead</th>\n",
       "      <th>Survived</th>\n",
       "    </tr>\n",
       "  </thead>\n",
       "  <tbody>\n",
       "    <tr>\n",
       "      <th>Dead</th>\n",
       "      <td>114</td>\n",
       "      <td>18</td>\n",
       "    </tr>\n",
       "    <tr>\n",
       "      <th>Survived</th>\n",
       "      <td>46</td>\n",
       "      <td>36</td>\n",
       "    </tr>\n",
       "  </tbody>\n",
       "</table>\n",
       "</div>"
      ],
      "text/plain": [
       "          Dead  Survived\n",
       "Dead       114        18\n",
       "Survived    46        36"
      ]
     },
     "execution_count": 51,
     "metadata": {},
     "output_type": "execute_result"
    }
   ],
   "source": [
    "knnm_20"
   ]
  },
  {
   "cell_type": "code",
   "execution_count": 52,
   "metadata": {},
   "outputs": [],
   "source": [
    "from sklearn.metrics import precision_recall_fscore_support"
   ]
  },
  {
   "cell_type": "code",
   "execution_count": 53,
   "metadata": {},
   "outputs": [],
   "source": [
    "stats_10 = precision_recall_fscore_support(y_validate, pred_10)\n",
    "stats_20 = precision_recall_fscore_support(y_validate, pred_20)"
   ]
  },
  {
   "cell_type": "code",
   "execution_count": 54,
   "metadata": {},
   "outputs": [
    {
     "name": "stdout",
     "output_type": "stream",
     "text": [
      "---------------------Dead----------Alive\n",
      "n= 10 Accuracy is [0.70700637 0.63157895]\n",
      "n= 10 Recall is [0.84090909 0.43902439]\n",
      "n= 10 Precision is [0.76816609 0.51798561]\n",
      "n= 10 f1_score is [132  82]\n",
      "n= 20 Accuracy is [0.7125     0.66666667]\n",
      "n= 20 Recall is [0.86363636 0.43902439]\n",
      "n= 20 Precision is [0.78082192 0.52941176]\n",
      "n= 20 f1_score is [132  82]\n"
     ]
    }
   ],
   "source": [
    "print('---------------------Dead----------Alive')\n",
    "print('n= 10 Accuracy is {}'.format(stats_10[0]))\n",
    "print('n= 10 Recall is {}'.format(stats_10[1]))\n",
    "print('n= 10 Precision is {}'.format(stats_10[2]))\n",
    "print('n= 10 f1_score is {}'.format(stats_10[3]))\n",
    "print('n= 20 Accuracy is {}'.format(stats_20[0]))\n",
    "print('n= 20 Recall is {}'.format(stats_20[1]))\n",
    "print('n= 20 Precision is {}'.format(stats_20[2]))\n",
    "print('n= 20 f1_score is {}'.format(stats_20[3]))"
   ]
  },
  {
   "cell_type": "code",
   "execution_count": 55,
   "metadata": {},
   "outputs": [],
   "source": [
    "report_10 = classification_report(y_validate, pred_10,output_dict=True)\n",
    "report_20 = classification_report(y_validate, pred_20,output_dict=True)"
   ]
  },
  {
   "cell_type": "code",
   "execution_count": 56,
   "metadata": {},
   "outputs": [
    {
     "data": {
      "text/html": [
       "<div>\n",
       "<style scoped>\n",
       "    .dataframe tbody tr th:only-of-type {\n",
       "        vertical-align: middle;\n",
       "    }\n",
       "\n",
       "    .dataframe tbody tr th {\n",
       "        vertical-align: top;\n",
       "    }\n",
       "\n",
       "    .dataframe thead th {\n",
       "        text-align: right;\n",
       "    }\n",
       "</style>\n",
       "<table border=\"1\" class=\"dataframe\">\n",
       "  <thead>\n",
       "    <tr style=\"text-align: right;\">\n",
       "      <th></th>\n",
       "      <th>precision</th>\n",
       "      <th>recall</th>\n",
       "      <th>f1-score</th>\n",
       "      <th>support</th>\n",
       "    </tr>\n",
       "  </thead>\n",
       "  <tbody>\n",
       "    <tr>\n",
       "      <th>0</th>\n",
       "      <td>0.707006</td>\n",
       "      <td>0.840909</td>\n",
       "      <td>0.768166</td>\n",
       "      <td>132.000000</td>\n",
       "    </tr>\n",
       "    <tr>\n",
       "      <th>1</th>\n",
       "      <td>0.631579</td>\n",
       "      <td>0.439024</td>\n",
       "      <td>0.517986</td>\n",
       "      <td>82.000000</td>\n",
       "    </tr>\n",
       "    <tr>\n",
       "      <th>accuracy</th>\n",
       "      <td>0.686916</td>\n",
       "      <td>0.686916</td>\n",
       "      <td>0.686916</td>\n",
       "      <td>0.686916</td>\n",
       "    </tr>\n",
       "    <tr>\n",
       "      <th>macro avg</th>\n",
       "      <td>0.669293</td>\n",
       "      <td>0.639967</td>\n",
       "      <td>0.643076</td>\n",
       "      <td>214.000000</td>\n",
       "    </tr>\n",
       "    <tr>\n",
       "      <th>weighted avg</th>\n",
       "      <td>0.678104</td>\n",
       "      <td>0.686916</td>\n",
       "      <td>0.672303</td>\n",
       "      <td>214.000000</td>\n",
       "    </tr>\n",
       "  </tbody>\n",
       "</table>\n",
       "</div>"
      ],
      "text/plain": [
       "              precision    recall  f1-score     support\n",
       "0              0.707006  0.840909  0.768166  132.000000\n",
       "1              0.631579  0.439024  0.517986   82.000000\n",
       "accuracy       0.686916  0.686916  0.686916    0.686916\n",
       "macro avg      0.669293  0.639967  0.643076  214.000000\n",
       "weighted avg   0.678104  0.686916  0.672303  214.000000"
      ]
     },
     "execution_count": 56,
     "metadata": {},
     "output_type": "execute_result"
    }
   ],
   "source": [
    "pd.DataFrame(report_10).T"
   ]
  },
  {
   "cell_type": "code",
   "execution_count": 57,
   "metadata": {},
   "outputs": [
    {
     "data": {
      "text/html": [
       "<div>\n",
       "<style scoped>\n",
       "    .dataframe tbody tr th:only-of-type {\n",
       "        vertical-align: middle;\n",
       "    }\n",
       "\n",
       "    .dataframe tbody tr th {\n",
       "        vertical-align: top;\n",
       "    }\n",
       "\n",
       "    .dataframe thead th {\n",
       "        text-align: right;\n",
       "    }\n",
       "</style>\n",
       "<table border=\"1\" class=\"dataframe\">\n",
       "  <thead>\n",
       "    <tr style=\"text-align: right;\">\n",
       "      <th></th>\n",
       "      <th>precision</th>\n",
       "      <th>recall</th>\n",
       "      <th>f1-score</th>\n",
       "      <th>support</th>\n",
       "    </tr>\n",
       "  </thead>\n",
       "  <tbody>\n",
       "    <tr>\n",
       "      <th>0</th>\n",
       "      <td>0.712500</td>\n",
       "      <td>0.863636</td>\n",
       "      <td>0.780822</td>\n",
       "      <td>132.000000</td>\n",
       "    </tr>\n",
       "    <tr>\n",
       "      <th>1</th>\n",
       "      <td>0.666667</td>\n",
       "      <td>0.439024</td>\n",
       "      <td>0.529412</td>\n",
       "      <td>82.000000</td>\n",
       "    </tr>\n",
       "    <tr>\n",
       "      <th>accuracy</th>\n",
       "      <td>0.700935</td>\n",
       "      <td>0.700935</td>\n",
       "      <td>0.700935</td>\n",
       "      <td>0.700935</td>\n",
       "    </tr>\n",
       "    <tr>\n",
       "      <th>macro avg</th>\n",
       "      <td>0.689583</td>\n",
       "      <td>0.651330</td>\n",
       "      <td>0.655117</td>\n",
       "      <td>214.000000</td>\n",
       "    </tr>\n",
       "    <tr>\n",
       "      <th>weighted avg</th>\n",
       "      <td>0.694938</td>\n",
       "      <td>0.700935</td>\n",
       "      <td>0.684487</td>\n",
       "      <td>214.000000</td>\n",
       "    </tr>\n",
       "  </tbody>\n",
       "</table>\n",
       "</div>"
      ],
      "text/plain": [
       "              precision    recall  f1-score     support\n",
       "0              0.712500  0.863636  0.780822  132.000000\n",
       "1              0.666667  0.439024  0.529412   82.000000\n",
       "accuracy       0.700935  0.700935  0.700935    0.700935\n",
       "macro avg      0.689583  0.651330  0.655117  214.000000\n",
       "weighted avg   0.694938  0.700935  0.684487  214.000000"
      ]
     },
     "execution_count": 57,
     "metadata": {},
     "output_type": "execute_result"
    }
   ],
   "source": [
    "pd.DataFrame(report_20).T"
   ]
  },
  {
   "cell_type": "code",
   "execution_count": 58,
   "metadata": {},
   "outputs": [],
   "source": [
    "################ LINEAR REGRESSION #########################\n"
   ]
  },
  {
   "cell_type": "code",
   "execution_count": 59,
   "metadata": {},
   "outputs": [],
   "source": [
    "#1.Create a model that includes age in addition to fare and pclass. Does this model perform better than your baseline?"
   ]
  },
  {
   "cell_type": "code",
   "execution_count": 67,
   "metadata": {},
   "outputs": [
    {
     "data": {
      "text/html": [
       "<div>\n",
       "<style scoped>\n",
       "    .dataframe tbody tr th:only-of-type {\n",
       "        vertical-align: middle;\n",
       "    }\n",
       "\n",
       "    .dataframe tbody tr th {\n",
       "        vertical-align: top;\n",
       "    }\n",
       "\n",
       "    .dataframe thead th {\n",
       "        text-align: right;\n",
       "    }\n",
       "</style>\n",
       "<table border=\"1\" class=\"dataframe\">\n",
       "  <thead>\n",
       "    <tr style=\"text-align: right;\">\n",
       "      <th></th>\n",
       "      <th>survived</th>\n",
       "      <th>pclass</th>\n",
       "      <th>age</th>\n",
       "      <th>sibsp</th>\n",
       "      <th>parch</th>\n",
       "      <th>fare</th>\n",
       "      <th>alone</th>\n",
       "      <th>Q</th>\n",
       "      <th>S</th>\n",
       "      <th>male</th>\n",
       "    </tr>\n",
       "  </thead>\n",
       "  <tbody>\n",
       "    <tr>\n",
       "      <th>583</th>\n",
       "      <td>0</td>\n",
       "      <td>1</td>\n",
       "      <td>36.0</td>\n",
       "      <td>0</td>\n",
       "      <td>0</td>\n",
       "      <td>40.125</td>\n",
       "      <td>1</td>\n",
       "      <td>0</td>\n",
       "      <td>0</td>\n",
       "      <td>1</td>\n",
       "    </tr>\n",
       "  </tbody>\n",
       "</table>\n",
       "</div>"
      ],
      "text/plain": [
       "     survived  pclass   age  sibsp  parch    fare  alone  Q  S  male\n",
       "583         0       1  36.0      0      0  40.125      1  0  0     1"
      ]
     },
     "execution_count": 67,
     "metadata": {},
     "output_type": "execute_result"
    }
   ],
   "source": [
    "#2.Include sex in your model as well. Note that you'll need to encode or create a dummy variable of this feature before including it in a model.\n",
    "train[:1]"
   ]
  },
  {
   "cell_type": "code",
   "execution_count": 60,
   "metadata": {},
   "outputs": [],
   "source": [
    "#create x and y values for train x = df with the target missing, y = target variable\n",
    "X_train = train.drop(columns=['survived']) \n",
    "y_train = train.survived\n",
    "X_validate = validate.drop(columns=['survived']) \n",
    "y_validate = validate.survived\n",
    "X_test = test.drop(columns=['survived']) \n",
    "y_test = test.survived"
   ]
  },
  {
   "cell_type": "code",
   "execution_count": 61,
   "metadata": {},
   "outputs": [],
   "source": [
    "base_model.fit(X_train, y_train)\n",
    "baseline = base_model.score(X_validate,y_validate)"
   ]
  },
  {
   "cell_type": "code",
   "execution_count": 62,
   "metadata": {},
   "outputs": [
    {
     "name": "stdout",
     "output_type": "stream",
     "text": [
      "Baseline accuracy: 61.682 %\n"
     ]
    }
   ],
   "source": [
    "print('Baseline accuracy: {:.3f} %'.format(baseline * 100))"
   ]
  },
  {
   "cell_type": "code",
   "execution_count": 63,
   "metadata": {},
   "outputs": [],
   "source": [
    "logit = LogisticRegression(C=1, random_state=123)"
   ]
  },
  {
   "cell_type": "code",
   "execution_count": 64,
   "metadata": {},
   "outputs": [
    {
     "data": {
      "text/plain": [
       "LogisticRegression(C=1, random_state=123)"
      ]
     },
     "execution_count": 64,
     "metadata": {},
     "output_type": "execute_result"
    }
   ],
   "source": [
    "logit.fit(X_train, y_train)"
   ]
  },
  {
   "cell_type": "code",
   "execution_count": 65,
   "metadata": {},
   "outputs": [
    {
     "name": "stdout",
     "output_type": "stream",
     "text": [
      "Linear regression Train accuracy: 80.28 %\n"
     ]
    }
   ],
   "source": [
    "print('Linear regression Train accuracy: {:.2f} %'.format(logit.score(X_train,y_train) * 100))"
   ]
  },
  {
   "cell_type": "code",
   "execution_count": 66,
   "metadata": {},
   "outputs": [
    {
     "name": "stdout",
     "output_type": "stream",
     "text": [
      "Linear regression Validate accuracy: 78.97 %\n"
     ]
    }
   ],
   "source": [
    "print('Linear regression Validate accuracy: {:.2f} %'.format(logit.score(X_validate,y_validate) * 100))"
   ]
  },
  {
   "cell_type": "code",
   "execution_count": 68,
   "metadata": {},
   "outputs": [],
   "source": [
    "# regression model > baseline"
   ]
  },
  {
   "cell_type": "code",
   "execution_count": 69,
   "metadata": {},
   "outputs": [],
   "source": [
    "# try out other combinations of features"
   ]
  },
  {
   "cell_type": "code",
   "execution_count": 100,
   "metadata": {},
   "outputs": [],
   "source": [
    "logit2 = LogisticRegression(C=4)\n",
    "logit3 = LogisticRegression(C=.15, max_iter=250)"
   ]
  },
  {
   "cell_type": "code",
   "execution_count": 101,
   "metadata": {},
   "outputs": [
    {
     "data": {
      "text/plain": [
       "LogisticRegression(C=0.15, max_iter=250)"
      ]
     },
     "execution_count": 101,
     "metadata": {},
     "output_type": "execute_result"
    }
   ],
   "source": [
    "logit2.fit(X_train, y_train)\n",
    "logit3.fit(X_train, y_train)"
   ]
  },
  {
   "cell_type": "code",
   "execution_count": 102,
   "metadata": {},
   "outputs": [
    {
     "name": "stdout",
     "output_type": "stream",
     "text": [
      "Linear regression #2 Train accuracy: 81.09 %\n",
      "Linear regression #2 validate accuracy: 80.37 %\n"
     ]
    }
   ],
   "source": [
    "print('Linear regression #2 Train accuracy: {:.2f} %'.format(logit2.score(X_train,y_train) * 100))\n",
    "print('Linear regression #2 validate accuracy: {:.2f} %'.format(logit2.score(X_validate,y_validate) * 100))"
   ]
  },
  {
   "cell_type": "code",
   "execution_count": 103,
   "metadata": {},
   "outputs": [
    {
     "name": "stdout",
     "output_type": "stream",
     "text": [
      "Linear regression #3 Train accuracy: 80.68 %\n",
      "Linear regression #3 Validate accuracy: 79.91 %\n"
     ]
    }
   ],
   "source": [
    "print('Linear regression #3 Train accuracy: {:.2f} %'.format(logit3.score(X_train,y_train) * 100))\n",
    "print('Linear regression #3 Validate accuracy: {:.2f} %'.format(logit3.score(X_validate,y_validate) * 100))"
   ]
  },
  {
   "cell_type": "code",
   "execution_count": 105,
   "metadata": {},
   "outputs": [
    {
     "name": "stdout",
     "output_type": "stream",
     "text": [
      "Linear regression #2 test accuracy: 79.21 %\n"
     ]
    }
   ],
   "source": [
    "#use model 2 on test\n",
    "print('Linear regression #2 test accuracy: {:.2f} %'.format(logit2.score(X_test,y_test) * 100))"
   ]
  },
  {
   "cell_type": "code",
   "execution_count": null,
   "metadata": {},
   "outputs": [],
   "source": []
  },
  {
   "cell_type": "code",
   "execution_count": null,
   "metadata": {},
   "outputs": [],
   "source": []
  }
 ],
 "metadata": {
  "kernelspec": {
   "display_name": "Python 3",
   "language": "python",
   "name": "python3"
  },
  "language_info": {
   "codemirror_mode": {
    "name": "ipython",
    "version": 3
   },
   "file_extension": ".py",
   "mimetype": "text/x-python",
   "name": "python",
   "nbconvert_exporter": "python",
   "pygments_lexer": "ipython3",
   "version": "3.8.5"
  }
 },
 "nbformat": 4,
 "nbformat_minor": 4
}
